{
 "cells": [
  {
   "cell_type": "code",
   "execution_count": 1,
   "metadata": {},
   "outputs": [],
   "source": [
    "# Developed by Rishikesh Rajendra Pote\n",
    "# Used Python 3 and Anaconda Jupyter Notebook For Creating The Poject\n",
    "# In these Project I have approached The Dataset, the data dictionary provided by the team\n",
    "# The Steps followed by me throughout the project were as follows\n",
    "# 1) Understanding the Dataset\n",
    "# 2) Importing The required Models \n",
    "# 3) Data Cleaning \n",
    "# 4) Data Visualization\n",
    "# 5) Feature Engineering\n",
    "# 6) Model Building\n",
    "# 7) Prediction\n",
    "# 8) Checking the Accuracy\n",
    "# Exploratory Data Analysis (EDA)\n",
    "# Data Cleaning\n",
    "# Variable Transformations\n",
    "# Plots to study trends\n",
    "# Feature engineering and Variable Selection\n",
    "# Model Building and Validation\n",
    "# Preprocessing\n",
    "# Model Building, testing and validation\n",
    "# Model selection\n",
    "# I have used Boosting method Extreme Gradient Boosting(XGBoost) for Prediciting due to its speed and prediction.\n"
   ]
  },
  {
   "cell_type": "code",
   "execution_count": 2,
   "metadata": {},
   "outputs": [],
   "source": [
    "# Importing of those libraries in the block which were required in the project\n",
    "import numpy as np\n",
    "import pandas as pd\n",
    "import seaborn as sns\n",
    "import scikitplot as skplt\n",
    "from scipy import stats\n",
    "import scikitplot as skplt\n",
    "from math import floor,ceil\n",
    "import statsmodels.api as sm\n",
    "import matplotlib.pyplot as plt\n",
    "from xgboost import XGBClassifier\n",
    "from sklearn.decomposition import PCA\n",
    "from IPython.display import display, HTML\n",
    "pd.set_option('display.max_columns', None)\n",
    "from sklearn.model_selection import GridSearchCV\n",
    "from sklearn.metrics import accuracy_score, confusion_matrix,roc_curve\n",
    "from sklearn.model_selection import train_test_split, KFold, cross_val_score\n",
    "\n",
    "import warnings\n",
    "warnings.simplefilter('ignore',DeprecationWarning)"
   ]
  },
  {
   "cell_type": "code",
   "execution_count": 3,
   "metadata": {},
   "outputs": [],
   "source": [
    "# specigying styles and colors through this function\n",
    "def style_specific_cell(x):\n",
    "\n",
    "    color_thresh = 'background-color: lightpink'\n",
    "    \n",
    "    df_color = pd.DataFrame('', index=x.index, columns=x.columns)\n",
    "    rows_number=len(x.index)\n",
    "    column_number=len(x.columns)\n",
    "    for r in range(0,rows_number): \n",
    "        for c in range(0,column_number):\n",
    "            try:\n",
    "                val=float(x.iloc[r, c])\n",
    "                if x.iloc[r, 0]==\"Percentage\":\n",
    "                    if val<10:\n",
    "                        df_color.iloc[r, c]=color_thresh\n",
    "            except:\n",
    "                pass\n",
    "            \n",
    "    return df_color\n",
    "\n",
    "def style_stats_specific_cell(x):\n",
    "\n",
    "    color_thresh = 'background-color: lightpink'\n",
    "    \n",
    "    df_color = pd.DataFrame('', index=x.index, columns=x.columns)\n",
    "    rows_number=len(x.index)\n",
    "    for r in range(0,rows_number):\n",
    "        try:\n",
    "            val=(x.iloc[r, 1])\n",
    "            if val>0.05:\n",
    "                df_color.iloc[r, 1]=color_thresh\n",
    "        except:\n",
    "            pass\n",
    "    return df_color"
   ]
  },
  {
   "cell_type": "code",
   "execution_count": 4,
   "metadata": {},
   "outputs": [],
   "source": [
    "#Reading Dataset from the computer\n",
    "df=pd.read_csv(\"http://archive.ics.uci.edu/ml/machine-learning-databases/statlog/german/german.data\",sep=\" \",header=None)\n",
    "\n",
    "#specifying the headers for the raw data\n",
    "headers=[\"Status of existing checking account\",\"Duration in month\",\"Credit history\",\\\n",
    "         \"Purpose\",\"Credit amount\",\"Savings account/bonds\",\"Present employment since\",\\\n",
    "         \"Installment rate in percentage of disposable income\",\"Personal status and sex\",\\\n",
    "         \"Other debtors / guarantors\",\"Present residence since\",\"Property\",\"Age in years\",\\\n",
    "        \"Other installment plans\",\"Housing\",\"Number of existing credits at this bank\",\\\n",
    "        \"Job\",\"Number of people being liable to provide maintenance for\",\"Telephone\",\"foreign worker\",\"Cost Matrix(Risk)\"]\n",
    "df.columns=headers\n",
    "df.to_csv(\"german_data_credit_cat.csv\",index=False) #save as csv file\n",
    "\n",
    "# Variable Transformations\n",
    "# To make a modelling ready dataset, we have to transform a few variables\n",
    "#for structuring only and working according the data provided in data dictionary\n",
    "\n",
    "Status_of_existing_checking_account={'A14':\"no checking account\",'A11':\"<0 DM\", 'A12': \"0 <= <200 DM\",'A13':\">= 200 DM \"}\n",
    "df[\"Status of existing checking account\"]=df[\"Status of existing checking account\"].map(Status_of_existing_checking_account)\n",
    "\n",
    "Credit_history={\"A34\":\"critical account\",\"A33\":\"delay in paying off\",\"A32\":\"existing credits paid back duly till now\",\"A31\":\"all credits at this bank paid back duly\",\"A30\":\"no credits taken\"}\n",
    "df[\"Credit history\"]=df[\"Credit history\"].map(Credit_history)\n",
    "\n",
    "Purpose={\"A40\" : \"car (new)\", \"A41\" : \"car (used)\", \"A42\" : \"furniture/equipment\", \"A43\" :\"radio/television\" , \"A44\" : \"domestic appliances\", \"A45\" : \"repairs\", \"A46\" : \"education\", 'A47' : 'vacation','A48' : 'retraining','A49' : 'business','A410' : 'others'}\n",
    "df[\"Purpose\"]=df[\"Purpose\"].map(Purpose)\n",
    "\n",
    "Saving_account={\"A65\" : \"no savings account\",\"A61\" :\"<100 DM\",\"A62\" : \"100 <= <500 DM\",\"A63\" :\"500 <= < 1000 DM\", \"A64\" :\">= 1000 DM\"}\n",
    "df[\"Savings account/bonds\"]=df[\"Savings account/bonds\"].map(Saving_account)\n",
    "\n",
    "Present_employment={'A75':\">=7 years\", 'A74':\"4<= <7 years\",  'A73':\"1<= < 4 years\", 'A72':\"<1 years\",'A71':\"unemployed\"}\n",
    "df[\"Present employment since\"]=df[\"Present employment since\"].map(Present_employment)\n",
    "\n",
    "Personal_status_and_sex={ 'A95':\"female:single\",'A94':\"male:married/widowed\",'A93':\"male:single\", 'A92':\"female:divorced/separated/married\", 'A91':\"male:divorced/separated\"}\n",
    "df[\"Personal status and sex\"]=df[\"Personal status and sex\"].map(Personal_status_and_sex)\n",
    "\n",
    "Other_debtors_guarantors={'A101':\"none\", 'A102':\"co-applicant\", 'A103':\"guarantor\"}\n",
    "df[\"Other debtors / guarantors\"]=df[\"Other debtors / guarantors\"].map(Other_debtors_guarantors)\n",
    "\n",
    "Property={'A121':\"real estate\", 'A122':\"savings agreement/life insurance\", 'A123':\"car or other\", 'A124':\"unknown / no property\"}\n",
    "df[\"Property\"]=df[\"Property\"].map(Property)\n",
    "\n",
    "Other_installment_plans={'A143':\"none\", 'A142':\"store\", 'A141':\"bank\"}\n",
    "df[\"Other installment plans\"]=df[\"Other installment plans\"].map(Other_installment_plans)\n",
    "\n",
    "Housing={'A153':\"for free\", 'A152':\"own\", 'A151':\"rent\"}\n",
    "df[\"Housing\"]=df[\"Housing\"].map(Housing)\n",
    "\n",
    "Job={'A174':\"management/ highly qualified employee\", 'A173':\"skilled employee / official\", 'A172':\"unskilled - resident\", 'A171':\"unemployed/ unskilled  - non-resident\"}\n",
    "df[\"Job\"]=df[\"Job\"].map(Job)\n",
    "\n",
    "Telephone={'A192':\"yes\", 'A191':\"none\"}\n",
    "df[\"Telephone\"]=df[\"Telephone\"].map(Telephone)\n",
    "\n",
    "foreign_worker={'A201':\"yes\", 'A202':\"no\"}\n",
    "df[\"foreign worker\"]=df[\"foreign worker\"].map(foreign_worker)\n",
    "\n",
    "risk={1:\"Good Risk\", 2:\"Bad Risk\"}\n",
    "df[\"Cost Matrix(Risk)\"]=df[\"Cost Matrix(Risk)\"].map(risk)"
   ]
  },
  {
   "cell_type": "code",
   "execution_count": 5,
   "metadata": {},
   "outputs": [
    {
     "data": {
      "text/html": [
       "<div>\n",
       "<style scoped>\n",
       "    .dataframe tbody tr th:only-of-type {\n",
       "        vertical-align: middle;\n",
       "    }\n",
       "\n",
       "    .dataframe tbody tr th {\n",
       "        vertical-align: top;\n",
       "    }\n",
       "\n",
       "    .dataframe thead th {\n",
       "        text-align: right;\n",
       "    }\n",
       "</style>\n",
       "<table border=\"1\" class=\"dataframe\">\n",
       "  <thead>\n",
       "    <tr style=\"text-align: right;\">\n",
       "      <th></th>\n",
       "      <th>Status of existing checking account</th>\n",
       "      <th>Duration in month</th>\n",
       "      <th>Credit history</th>\n",
       "      <th>Purpose</th>\n",
       "      <th>Credit amount</th>\n",
       "      <th>Savings account/bonds</th>\n",
       "      <th>Present employment since</th>\n",
       "      <th>Installment rate in percentage of disposable income</th>\n",
       "      <th>Personal status and sex</th>\n",
       "      <th>Other debtors / guarantors</th>\n",
       "      <th>Present residence since</th>\n",
       "      <th>Property</th>\n",
       "      <th>Age in years</th>\n",
       "      <th>Other installment plans</th>\n",
       "      <th>Housing</th>\n",
       "      <th>Number of existing credits at this bank</th>\n",
       "      <th>Job</th>\n",
       "      <th>Number of people being liable to provide maintenance for</th>\n",
       "      <th>Telephone</th>\n",
       "      <th>foreign worker</th>\n",
       "      <th>Cost Matrix(Risk)</th>\n",
       "    </tr>\n",
       "  </thead>\n",
       "  <tbody>\n",
       "    <tr>\n",
       "      <th>0</th>\n",
       "      <td>&lt;0 DM</td>\n",
       "      <td>6</td>\n",
       "      <td>critical account</td>\n",
       "      <td>radio/television</td>\n",
       "      <td>1169</td>\n",
       "      <td>no savings account</td>\n",
       "      <td>&gt;=7 years</td>\n",
       "      <td>4</td>\n",
       "      <td>male:single</td>\n",
       "      <td>none</td>\n",
       "      <td>4</td>\n",
       "      <td>real estate</td>\n",
       "      <td>67</td>\n",
       "      <td>none</td>\n",
       "      <td>own</td>\n",
       "      <td>2</td>\n",
       "      <td>skilled employee / official</td>\n",
       "      <td>1</td>\n",
       "      <td>yes</td>\n",
       "      <td>yes</td>\n",
       "      <td>Good Risk</td>\n",
       "    </tr>\n",
       "    <tr>\n",
       "      <th>1</th>\n",
       "      <td>0 &lt;= &lt;200 DM</td>\n",
       "      <td>48</td>\n",
       "      <td>existing credits paid back duly till now</td>\n",
       "      <td>radio/television</td>\n",
       "      <td>5951</td>\n",
       "      <td>&lt;100 DM</td>\n",
       "      <td>1&lt;= &lt; 4 years</td>\n",
       "      <td>2</td>\n",
       "      <td>female:divorced/separated/married</td>\n",
       "      <td>none</td>\n",
       "      <td>2</td>\n",
       "      <td>real estate</td>\n",
       "      <td>22</td>\n",
       "      <td>none</td>\n",
       "      <td>own</td>\n",
       "      <td>1</td>\n",
       "      <td>skilled employee / official</td>\n",
       "      <td>1</td>\n",
       "      <td>none</td>\n",
       "      <td>yes</td>\n",
       "      <td>Bad Risk</td>\n",
       "    </tr>\n",
       "    <tr>\n",
       "      <th>2</th>\n",
       "      <td>no checking account</td>\n",
       "      <td>12</td>\n",
       "      <td>critical account</td>\n",
       "      <td>education</td>\n",
       "      <td>2096</td>\n",
       "      <td>&lt;100 DM</td>\n",
       "      <td>4&lt;= &lt;7 years</td>\n",
       "      <td>2</td>\n",
       "      <td>male:single</td>\n",
       "      <td>none</td>\n",
       "      <td>3</td>\n",
       "      <td>real estate</td>\n",
       "      <td>49</td>\n",
       "      <td>none</td>\n",
       "      <td>own</td>\n",
       "      <td>1</td>\n",
       "      <td>unskilled - resident</td>\n",
       "      <td>2</td>\n",
       "      <td>none</td>\n",
       "      <td>yes</td>\n",
       "      <td>Good Risk</td>\n",
       "    </tr>\n",
       "    <tr>\n",
       "      <th>3</th>\n",
       "      <td>&lt;0 DM</td>\n",
       "      <td>42</td>\n",
       "      <td>existing credits paid back duly till now</td>\n",
       "      <td>furniture/equipment</td>\n",
       "      <td>7882</td>\n",
       "      <td>&lt;100 DM</td>\n",
       "      <td>4&lt;= &lt;7 years</td>\n",
       "      <td>2</td>\n",
       "      <td>male:single</td>\n",
       "      <td>guarantor</td>\n",
       "      <td>4</td>\n",
       "      <td>savings agreement/life insurance</td>\n",
       "      <td>45</td>\n",
       "      <td>none</td>\n",
       "      <td>for free</td>\n",
       "      <td>1</td>\n",
       "      <td>skilled employee / official</td>\n",
       "      <td>2</td>\n",
       "      <td>none</td>\n",
       "      <td>yes</td>\n",
       "      <td>Good Risk</td>\n",
       "    </tr>\n",
       "    <tr>\n",
       "      <th>4</th>\n",
       "      <td>&lt;0 DM</td>\n",
       "      <td>24</td>\n",
       "      <td>delay in paying off</td>\n",
       "      <td>car (new)</td>\n",
       "      <td>4870</td>\n",
       "      <td>&lt;100 DM</td>\n",
       "      <td>1&lt;= &lt; 4 years</td>\n",
       "      <td>3</td>\n",
       "      <td>male:single</td>\n",
       "      <td>none</td>\n",
       "      <td>4</td>\n",
       "      <td>unknown / no property</td>\n",
       "      <td>53</td>\n",
       "      <td>none</td>\n",
       "      <td>for free</td>\n",
       "      <td>2</td>\n",
       "      <td>skilled employee / official</td>\n",
       "      <td>2</td>\n",
       "      <td>none</td>\n",
       "      <td>yes</td>\n",
       "      <td>Bad Risk</td>\n",
       "    </tr>\n",
       "  </tbody>\n",
       "</table>\n",
       "</div>"
      ],
      "text/plain": [
       "  Status of existing checking account  Duration in month  \\\n",
       "0                               <0 DM                  6   \n",
       "1                        0 <= <200 DM                 48   \n",
       "2                 no checking account                 12   \n",
       "3                               <0 DM                 42   \n",
       "4                               <0 DM                 24   \n",
       "\n",
       "                             Credit history              Purpose  \\\n",
       "0                          critical account     radio/television   \n",
       "1  existing credits paid back duly till now     radio/television   \n",
       "2                          critical account            education   \n",
       "3  existing credits paid back duly till now  furniture/equipment   \n",
       "4                       delay in paying off            car (new)   \n",
       "\n",
       "   Credit amount Savings account/bonds Present employment since  \\\n",
       "0           1169    no savings account                >=7 years   \n",
       "1           5951               <100 DM            1<= < 4 years   \n",
       "2           2096               <100 DM             4<= <7 years   \n",
       "3           7882               <100 DM             4<= <7 years   \n",
       "4           4870               <100 DM            1<= < 4 years   \n",
       "\n",
       "   Installment rate in percentage of disposable income  \\\n",
       "0                                                  4     \n",
       "1                                                  2     \n",
       "2                                                  2     \n",
       "3                                                  2     \n",
       "4                                                  3     \n",
       "\n",
       "             Personal status and sex Other debtors / guarantors  \\\n",
       "0                        male:single                       none   \n",
       "1  female:divorced/separated/married                       none   \n",
       "2                        male:single                       none   \n",
       "3                        male:single                  guarantor   \n",
       "4                        male:single                       none   \n",
       "\n",
       "   Present residence since                          Property  Age in years  \\\n",
       "0                        4                       real estate            67   \n",
       "1                        2                       real estate            22   \n",
       "2                        3                       real estate            49   \n",
       "3                        4  savings agreement/life insurance            45   \n",
       "4                        4             unknown / no property            53   \n",
       "\n",
       "  Other installment plans   Housing  Number of existing credits at this bank  \\\n",
       "0                    none       own                                        2   \n",
       "1                    none       own                                        1   \n",
       "2                    none       own                                        1   \n",
       "3                    none  for free                                        1   \n",
       "4                    none  for free                                        2   \n",
       "\n",
       "                           Job  \\\n",
       "0  skilled employee / official   \n",
       "1  skilled employee / official   \n",
       "2         unskilled - resident   \n",
       "3  skilled employee / official   \n",
       "4  skilled employee / official   \n",
       "\n",
       "   Number of people being liable to provide maintenance for Telephone  \\\n",
       "0                                                  1              yes   \n",
       "1                                                  1             none   \n",
       "2                                                  2             none   \n",
       "3                                                  2             none   \n",
       "4                                                  2             none   \n",
       "\n",
       "  foreign worker Cost Matrix(Risk)  \n",
       "0            yes         Good Risk  \n",
       "1            yes          Bad Risk  \n",
       "2            yes         Good Risk  \n",
       "3            yes         Good Risk  \n",
       "4            yes          Bad Risk  "
      ]
     },
     "execution_count": 5,
     "metadata": {},
     "output_type": "execute_result"
    }
   ],
   "source": [
    "df.head()"
   ]
  },
  {
   "cell_type": "code",
   "execution_count": 6,
   "metadata": {},
   "outputs": [
    {
     "name": "stdout",
     "output_type": "stream",
     "text": [
      "<class 'pandas.core.frame.DataFrame'>\n",
      "RangeIndex: 1000 entries, 0 to 999\n",
      "Data columns (total 21 columns):\n",
      "Status of existing checking account                         1000 non-null object\n",
      "Duration in month                                           1000 non-null int64\n",
      "Credit history                                              1000 non-null object\n",
      "Purpose                                                     1000 non-null object\n",
      "Credit amount                                               1000 non-null int64\n",
      "Savings account/bonds                                       1000 non-null object\n",
      "Present employment since                                    1000 non-null object\n",
      "Installment rate in percentage of disposable income         1000 non-null int64\n",
      "Personal status and sex                                     1000 non-null object\n",
      "Other debtors / guarantors                                  1000 non-null object\n",
      "Present residence since                                     1000 non-null int64\n",
      "Property                                                    1000 non-null object\n",
      "Age in years                                                1000 non-null int64\n",
      "Other installment plans                                     1000 non-null object\n",
      "Housing                                                     1000 non-null object\n",
      "Number of existing credits at this bank                     1000 non-null int64\n",
      "Job                                                         1000 non-null object\n",
      "Number of people being liable to provide maintenance for    1000 non-null int64\n",
      "Telephone                                                   1000 non-null object\n",
      "foreign worker                                              1000 non-null object\n",
      "Cost Matrix(Risk)                                           1000 non-null object\n",
      "dtypes: int64(7), object(14)\n",
      "memory usage: 164.1+ KB\n"
     ]
    }
   ],
   "source": [
    "# data types of different observations\n",
    "df.info()"
   ]
  },
  {
   "cell_type": "code",
   "execution_count": 7,
   "metadata": {},
   "outputs": [
    {
     "data": {
      "text/html": [
       "<style  type=\"text/css\" >\n",
       "    #T_29daee4c_31f9_11e9_88ec_409f380b6344row7_col1 {\n",
       "            background-color:  lightpink;\n",
       "        }</style>  \n",
       "<table id=\"T_29daee4c_31f9_11e9_88ec_409f380b6344\" > \n",
       "<thead>    <tr> \n",
       "        <th class=\"blank level0\" ></th> \n",
       "        <th class=\"col_heading level0 col0\" >Attribute</th> \n",
       "        <th class=\"col_heading level0 col1\" >Category Option 1</th> \n",
       "        <th class=\"col_heading level0 col2\" >Category Option 2</th> \n",
       "    </tr></thead> \n",
       "<tbody>    <tr> \n",
       "        <th id=\"T_29daee4c_31f9_11e9_88ec_409f380b6344level0_row0\" class=\"row_heading level0 row0\" >0</th> \n",
       "        <td id=\"T_29daee4c_31f9_11e9_88ec_409f380b6344row0_col0\" class=\"data row0 col0\" >Cost Matrix(Risk)</td> \n",
       "        <td id=\"T_29daee4c_31f9_11e9_88ec_409f380b6344row0_col1\" class=\"data row0 col1\" >Bad Risk</td> \n",
       "        <td id=\"T_29daee4c_31f9_11e9_88ec_409f380b6344row0_col2\" class=\"data row0 col2\" >Good Risk</td> \n",
       "    </tr>    <tr> \n",
       "        <th id=\"T_29daee4c_31f9_11e9_88ec_409f380b6344level0_row1\" class=\"row_heading level0 row1\" >1</th> \n",
       "        <td id=\"T_29daee4c_31f9_11e9_88ec_409f380b6344row1_col0\" class=\"data row1 col0\" >Percentage</td> \n",
       "        <td id=\"T_29daee4c_31f9_11e9_88ec_409f380b6344row1_col1\" class=\"data row1 col1\" >30</td> \n",
       "        <td id=\"T_29daee4c_31f9_11e9_88ec_409f380b6344row1_col2\" class=\"data row1 col2\" >70</td> \n",
       "    </tr>    <tr> \n",
       "        <th id=\"T_29daee4c_31f9_11e9_88ec_409f380b6344level0_row2\" class=\"row_heading level0 row2\" >2</th> \n",
       "        <td id=\"T_29daee4c_31f9_11e9_88ec_409f380b6344row2_col0\" class=\"data row2 col0\" >Number of people being liable to provide maintenance for</td> \n",
       "        <td id=\"T_29daee4c_31f9_11e9_88ec_409f380b6344row2_col1\" class=\"data row2 col1\" >1</td> \n",
       "        <td id=\"T_29daee4c_31f9_11e9_88ec_409f380b6344row2_col2\" class=\"data row2 col2\" >2</td> \n",
       "    </tr>    <tr> \n",
       "        <th id=\"T_29daee4c_31f9_11e9_88ec_409f380b6344level0_row3\" class=\"row_heading level0 row3\" >3</th> \n",
       "        <td id=\"T_29daee4c_31f9_11e9_88ec_409f380b6344row3_col0\" class=\"data row3 col0\" >Percentage</td> \n",
       "        <td id=\"T_29daee4c_31f9_11e9_88ec_409f380b6344row3_col1\" class=\"data row3 col1\" >84.5</td> \n",
       "        <td id=\"T_29daee4c_31f9_11e9_88ec_409f380b6344row3_col2\" class=\"data row3 col2\" >15.5</td> \n",
       "    </tr>    <tr> \n",
       "        <th id=\"T_29daee4c_31f9_11e9_88ec_409f380b6344level0_row4\" class=\"row_heading level0 row4\" >4</th> \n",
       "        <td id=\"T_29daee4c_31f9_11e9_88ec_409f380b6344row4_col0\" class=\"data row4 col0\" >Telephone</td> \n",
       "        <td id=\"T_29daee4c_31f9_11e9_88ec_409f380b6344row4_col1\" class=\"data row4 col1\" >none</td> \n",
       "        <td id=\"T_29daee4c_31f9_11e9_88ec_409f380b6344row4_col2\" class=\"data row4 col2\" >yes</td> \n",
       "    </tr>    <tr> \n",
       "        <th id=\"T_29daee4c_31f9_11e9_88ec_409f380b6344level0_row5\" class=\"row_heading level0 row5\" >5</th> \n",
       "        <td id=\"T_29daee4c_31f9_11e9_88ec_409f380b6344row5_col0\" class=\"data row5 col0\" >Percentage</td> \n",
       "        <td id=\"T_29daee4c_31f9_11e9_88ec_409f380b6344row5_col1\" class=\"data row5 col1\" >59.6</td> \n",
       "        <td id=\"T_29daee4c_31f9_11e9_88ec_409f380b6344row5_col2\" class=\"data row5 col2\" >40.4</td> \n",
       "    </tr>    <tr> \n",
       "        <th id=\"T_29daee4c_31f9_11e9_88ec_409f380b6344level0_row6\" class=\"row_heading level0 row6\" >6</th> \n",
       "        <td id=\"T_29daee4c_31f9_11e9_88ec_409f380b6344row6_col0\" class=\"data row6 col0\" >foreign worker</td> \n",
       "        <td id=\"T_29daee4c_31f9_11e9_88ec_409f380b6344row6_col1\" class=\"data row6 col1\" >no</td> \n",
       "        <td id=\"T_29daee4c_31f9_11e9_88ec_409f380b6344row6_col2\" class=\"data row6 col2\" >yes</td> \n",
       "    </tr>    <tr> \n",
       "        <th id=\"T_29daee4c_31f9_11e9_88ec_409f380b6344level0_row7\" class=\"row_heading level0 row7\" >7</th> \n",
       "        <td id=\"T_29daee4c_31f9_11e9_88ec_409f380b6344row7_col0\" class=\"data row7 col0\" >Percentage</td> \n",
       "        <td id=\"T_29daee4c_31f9_11e9_88ec_409f380b6344row7_col1\" class=\"data row7 col1\" >3.7</td> \n",
       "        <td id=\"T_29daee4c_31f9_11e9_88ec_409f380b6344row7_col2\" class=\"data row7 col2\" >96.3</td> \n",
       "    </tr></tbody> \n",
       "</table> "
      ],
      "text/plain": [
       "<pandas.io.formats.style.Styler at 0x26a71ea8f28>"
      ]
     },
     "metadata": {},
     "output_type": "display_data"
    },
    {
     "data": {
      "text/html": [
       "<style  type=\"text/css\" >\n",
       "    #T_29e815da_31f9_11e9_ad0c_409f380b6344row3_col1 {\n",
       "            background-color:  lightpink;\n",
       "        }    #T_29e815da_31f9_11e9_ad0c_409f380b6344row3_col2 {\n",
       "            background-color:  lightpink;\n",
       "        }    #T_29e815da_31f9_11e9_ad0c_409f380b6344row5_col3 {\n",
       "            background-color:  lightpink;\n",
       "        }</style>  \n",
       "<table id=\"T_29e815da_31f9_11e9_ad0c_409f380b6344\" > \n",
       "<thead>    <tr> \n",
       "        <th class=\"blank level0\" ></th> \n",
       "        <th class=\"col_heading level0 col0\" >Attribute</th> \n",
       "        <th class=\"col_heading level0 col1\" >Category Option 1</th> \n",
       "        <th class=\"col_heading level0 col2\" >Category Option 2</th> \n",
       "        <th class=\"col_heading level0 col3\" >Category Option 3</th> \n",
       "    </tr></thead> \n",
       "<tbody>    <tr> \n",
       "        <th id=\"T_29e815da_31f9_11e9_ad0c_409f380b6344level0_row0\" class=\"row_heading level0 row0\" >0</th> \n",
       "        <td id=\"T_29e815da_31f9_11e9_ad0c_409f380b6344row0_col0\" class=\"data row0 col0\" >Housing</td> \n",
       "        <td id=\"T_29e815da_31f9_11e9_ad0c_409f380b6344row0_col1\" class=\"data row0 col1\" >for free</td> \n",
       "        <td id=\"T_29e815da_31f9_11e9_ad0c_409f380b6344row0_col2\" class=\"data row0 col2\" >own</td> \n",
       "        <td id=\"T_29e815da_31f9_11e9_ad0c_409f380b6344row0_col3\" class=\"data row0 col3\" >rent</td> \n",
       "    </tr>    <tr> \n",
       "        <th id=\"T_29e815da_31f9_11e9_ad0c_409f380b6344level0_row1\" class=\"row_heading level0 row1\" >1</th> \n",
       "        <td id=\"T_29e815da_31f9_11e9_ad0c_409f380b6344row1_col0\" class=\"data row1 col0\" >Percentage</td> \n",
       "        <td id=\"T_29e815da_31f9_11e9_ad0c_409f380b6344row1_col1\" class=\"data row1 col1\" >10.8</td> \n",
       "        <td id=\"T_29e815da_31f9_11e9_ad0c_409f380b6344row1_col2\" class=\"data row1 col2\" >71.3</td> \n",
       "        <td id=\"T_29e815da_31f9_11e9_ad0c_409f380b6344row1_col3\" class=\"data row1 col3\" >17.9</td> \n",
       "    </tr>    <tr> \n",
       "        <th id=\"T_29e815da_31f9_11e9_ad0c_409f380b6344level0_row2\" class=\"row_heading level0 row2\" >2</th> \n",
       "        <td id=\"T_29e815da_31f9_11e9_ad0c_409f380b6344row2_col0\" class=\"data row2 col0\" >Other debtors / guarantors</td> \n",
       "        <td id=\"T_29e815da_31f9_11e9_ad0c_409f380b6344row2_col1\" class=\"data row2 col1\" >co-applicant</td> \n",
       "        <td id=\"T_29e815da_31f9_11e9_ad0c_409f380b6344row2_col2\" class=\"data row2 col2\" >guarantor</td> \n",
       "        <td id=\"T_29e815da_31f9_11e9_ad0c_409f380b6344row2_col3\" class=\"data row2 col3\" >none</td> \n",
       "    </tr>    <tr> \n",
       "        <th id=\"T_29e815da_31f9_11e9_ad0c_409f380b6344level0_row3\" class=\"row_heading level0 row3\" >3</th> \n",
       "        <td id=\"T_29e815da_31f9_11e9_ad0c_409f380b6344row3_col0\" class=\"data row3 col0\" >Percentage</td> \n",
       "        <td id=\"T_29e815da_31f9_11e9_ad0c_409f380b6344row3_col1\" class=\"data row3 col1\" >4.1</td> \n",
       "        <td id=\"T_29e815da_31f9_11e9_ad0c_409f380b6344row3_col2\" class=\"data row3 col2\" >5.2</td> \n",
       "        <td id=\"T_29e815da_31f9_11e9_ad0c_409f380b6344row3_col3\" class=\"data row3 col3\" >90.7</td> \n",
       "    </tr>    <tr> \n",
       "        <th id=\"T_29e815da_31f9_11e9_ad0c_409f380b6344level0_row4\" class=\"row_heading level0 row4\" >4</th> \n",
       "        <td id=\"T_29e815da_31f9_11e9_ad0c_409f380b6344row4_col0\" class=\"data row4 col0\" >Other installment plans</td> \n",
       "        <td id=\"T_29e815da_31f9_11e9_ad0c_409f380b6344row4_col1\" class=\"data row4 col1\" >bank</td> \n",
       "        <td id=\"T_29e815da_31f9_11e9_ad0c_409f380b6344row4_col2\" class=\"data row4 col2\" >none</td> \n",
       "        <td id=\"T_29e815da_31f9_11e9_ad0c_409f380b6344row4_col3\" class=\"data row4 col3\" >store</td> \n",
       "    </tr>    <tr> \n",
       "        <th id=\"T_29e815da_31f9_11e9_ad0c_409f380b6344level0_row5\" class=\"row_heading level0 row5\" >5</th> \n",
       "        <td id=\"T_29e815da_31f9_11e9_ad0c_409f380b6344row5_col0\" class=\"data row5 col0\" >Percentage</td> \n",
       "        <td id=\"T_29e815da_31f9_11e9_ad0c_409f380b6344row5_col1\" class=\"data row5 col1\" >13.9</td> \n",
       "        <td id=\"T_29e815da_31f9_11e9_ad0c_409f380b6344row5_col2\" class=\"data row5 col2\" >81.4</td> \n",
       "        <td id=\"T_29e815da_31f9_11e9_ad0c_409f380b6344row5_col3\" class=\"data row5 col3\" >4.7</td> \n",
       "    </tr></tbody> \n",
       "</table> "
      ],
      "text/plain": [
       "<pandas.io.formats.style.Styler at 0x26a7202f7b8>"
      ]
     },
     "metadata": {},
     "output_type": "display_data"
    },
    {
     "data": {
      "text/html": [
       "<style  type=\"text/css\" >\n",
       "    #T_2a04c84a_31f9_11e9_8031_409f380b6344row3_col3 {\n",
       "            background-color:  lightpink;\n",
       "        }    #T_2a04c84a_31f9_11e9_8031_409f380b6344row5_col3 {\n",
       "            background-color:  lightpink;\n",
       "        }    #T_2a04c84a_31f9_11e9_8031_409f380b6344row5_col4 {\n",
       "            background-color:  lightpink;\n",
       "        }    #T_2a04c84a_31f9_11e9_8031_409f380b6344row7_col2 {\n",
       "            background-color:  lightpink;\n",
       "        }    #T_2a04c84a_31f9_11e9_8031_409f380b6344row7_col3 {\n",
       "            background-color:  lightpink;\n",
       "        }    #T_2a04c84a_31f9_11e9_8031_409f380b6344row13_col3 {\n",
       "            background-color:  lightpink;\n",
       "        }</style>  \n",
       "<table id=\"T_2a04c84a_31f9_11e9_8031_409f380b6344\" > \n",
       "<thead>    <tr> \n",
       "        <th class=\"blank level0\" ></th> \n",
       "        <th class=\"col_heading level0 col0\" >Attribute</th> \n",
       "        <th class=\"col_heading level0 col1\" >Category Option 1</th> \n",
       "        <th class=\"col_heading level0 col2\" >Category Option 2</th> \n",
       "        <th class=\"col_heading level0 col3\" >Category Option 3</th> \n",
       "        <th class=\"col_heading level0 col4\" >Category Option 4</th> \n",
       "    </tr></thead> \n",
       "<tbody>    <tr> \n",
       "        <th id=\"T_2a04c84a_31f9_11e9_8031_409f380b6344level0_row0\" class=\"row_heading level0 row0\" >0</th> \n",
       "        <td id=\"T_2a04c84a_31f9_11e9_8031_409f380b6344row0_col0\" class=\"data row0 col0\" >Installment rate in percentage of disposable income</td> \n",
       "        <td id=\"T_2a04c84a_31f9_11e9_8031_409f380b6344row0_col1\" class=\"data row0 col1\" >1</td> \n",
       "        <td id=\"T_2a04c84a_31f9_11e9_8031_409f380b6344row0_col2\" class=\"data row0 col2\" >2</td> \n",
       "        <td id=\"T_2a04c84a_31f9_11e9_8031_409f380b6344row0_col3\" class=\"data row0 col3\" >3</td> \n",
       "        <td id=\"T_2a04c84a_31f9_11e9_8031_409f380b6344row0_col4\" class=\"data row0 col4\" >4</td> \n",
       "    </tr>    <tr> \n",
       "        <th id=\"T_2a04c84a_31f9_11e9_8031_409f380b6344level0_row1\" class=\"row_heading level0 row1\" >1</th> \n",
       "        <td id=\"T_2a04c84a_31f9_11e9_8031_409f380b6344row1_col0\" class=\"data row1 col0\" >Percentage</td> \n",
       "        <td id=\"T_2a04c84a_31f9_11e9_8031_409f380b6344row1_col1\" class=\"data row1 col1\" >13.6</td> \n",
       "        <td id=\"T_2a04c84a_31f9_11e9_8031_409f380b6344row1_col2\" class=\"data row1 col2\" >23.1</td> \n",
       "        <td id=\"T_2a04c84a_31f9_11e9_8031_409f380b6344row1_col3\" class=\"data row1 col3\" >15.7</td> \n",
       "        <td id=\"T_2a04c84a_31f9_11e9_8031_409f380b6344row1_col4\" class=\"data row1 col4\" >47.6</td> \n",
       "    </tr>    <tr> \n",
       "        <th id=\"T_2a04c84a_31f9_11e9_8031_409f380b6344level0_row2\" class=\"row_heading level0 row2\" >2</th> \n",
       "        <td id=\"T_2a04c84a_31f9_11e9_8031_409f380b6344row2_col0\" class=\"data row2 col0\" >Job</td> \n",
       "        <td id=\"T_2a04c84a_31f9_11e9_8031_409f380b6344row2_col1\" class=\"data row2 col1\" >management/ highly qualified employee</td> \n",
       "        <td id=\"T_2a04c84a_31f9_11e9_8031_409f380b6344row2_col2\" class=\"data row2 col2\" >skilled employee / official</td> \n",
       "        <td id=\"T_2a04c84a_31f9_11e9_8031_409f380b6344row2_col3\" class=\"data row2 col3\" >unemployed/ unskilled  - non-resident</td> \n",
       "        <td id=\"T_2a04c84a_31f9_11e9_8031_409f380b6344row2_col4\" class=\"data row2 col4\" >unskilled - resident</td> \n",
       "    </tr>    <tr> \n",
       "        <th id=\"T_2a04c84a_31f9_11e9_8031_409f380b6344level0_row3\" class=\"row_heading level0 row3\" >3</th> \n",
       "        <td id=\"T_2a04c84a_31f9_11e9_8031_409f380b6344row3_col0\" class=\"data row3 col0\" >Percentage</td> \n",
       "        <td id=\"T_2a04c84a_31f9_11e9_8031_409f380b6344row3_col1\" class=\"data row3 col1\" >14.8</td> \n",
       "        <td id=\"T_2a04c84a_31f9_11e9_8031_409f380b6344row3_col2\" class=\"data row3 col2\" >63</td> \n",
       "        <td id=\"T_2a04c84a_31f9_11e9_8031_409f380b6344row3_col3\" class=\"data row3 col3\" >2.2</td> \n",
       "        <td id=\"T_2a04c84a_31f9_11e9_8031_409f380b6344row3_col4\" class=\"data row3 col4\" >20</td> \n",
       "    </tr>    <tr> \n",
       "        <th id=\"T_2a04c84a_31f9_11e9_8031_409f380b6344level0_row4\" class=\"row_heading level0 row4\" >4</th> \n",
       "        <td id=\"T_2a04c84a_31f9_11e9_8031_409f380b6344row4_col0\" class=\"data row4 col0\" >Number of existing credits at this bank</td> \n",
       "        <td id=\"T_2a04c84a_31f9_11e9_8031_409f380b6344row4_col1\" class=\"data row4 col1\" >1</td> \n",
       "        <td id=\"T_2a04c84a_31f9_11e9_8031_409f380b6344row4_col2\" class=\"data row4 col2\" >2</td> \n",
       "        <td id=\"T_2a04c84a_31f9_11e9_8031_409f380b6344row4_col3\" class=\"data row4 col3\" >3</td> \n",
       "        <td id=\"T_2a04c84a_31f9_11e9_8031_409f380b6344row4_col4\" class=\"data row4 col4\" >4</td> \n",
       "    </tr>    <tr> \n",
       "        <th id=\"T_2a04c84a_31f9_11e9_8031_409f380b6344level0_row5\" class=\"row_heading level0 row5\" >5</th> \n",
       "        <td id=\"T_2a04c84a_31f9_11e9_8031_409f380b6344row5_col0\" class=\"data row5 col0\" >Percentage</td> \n",
       "        <td id=\"T_2a04c84a_31f9_11e9_8031_409f380b6344row5_col1\" class=\"data row5 col1\" >63.3</td> \n",
       "        <td id=\"T_2a04c84a_31f9_11e9_8031_409f380b6344row5_col2\" class=\"data row5 col2\" >33.3</td> \n",
       "        <td id=\"T_2a04c84a_31f9_11e9_8031_409f380b6344row5_col3\" class=\"data row5 col3\" >2.8</td> \n",
       "        <td id=\"T_2a04c84a_31f9_11e9_8031_409f380b6344row5_col4\" class=\"data row5 col4\" >0.6</td> \n",
       "    </tr>    <tr> \n",
       "        <th id=\"T_2a04c84a_31f9_11e9_8031_409f380b6344level0_row6\" class=\"row_heading level0 row6\" >6</th> \n",
       "        <td id=\"T_2a04c84a_31f9_11e9_8031_409f380b6344row6_col0\" class=\"data row6 col0\" >Personal status and sex</td> \n",
       "        <td id=\"T_2a04c84a_31f9_11e9_8031_409f380b6344row6_col1\" class=\"data row6 col1\" >female:divorced/separated/married</td> \n",
       "        <td id=\"T_2a04c84a_31f9_11e9_8031_409f380b6344row6_col2\" class=\"data row6 col2\" >male:divorced/separated</td> \n",
       "        <td id=\"T_2a04c84a_31f9_11e9_8031_409f380b6344row6_col3\" class=\"data row6 col3\" >male:married/widowed</td> \n",
       "        <td id=\"T_2a04c84a_31f9_11e9_8031_409f380b6344row6_col4\" class=\"data row6 col4\" >male:single</td> \n",
       "    </tr>    <tr> \n",
       "        <th id=\"T_2a04c84a_31f9_11e9_8031_409f380b6344level0_row7\" class=\"row_heading level0 row7\" >7</th> \n",
       "        <td id=\"T_2a04c84a_31f9_11e9_8031_409f380b6344row7_col0\" class=\"data row7 col0\" >Percentage</td> \n",
       "        <td id=\"T_2a04c84a_31f9_11e9_8031_409f380b6344row7_col1\" class=\"data row7 col1\" >31</td> \n",
       "        <td id=\"T_2a04c84a_31f9_11e9_8031_409f380b6344row7_col2\" class=\"data row7 col2\" >5</td> \n",
       "        <td id=\"T_2a04c84a_31f9_11e9_8031_409f380b6344row7_col3\" class=\"data row7 col3\" >9.2</td> \n",
       "        <td id=\"T_2a04c84a_31f9_11e9_8031_409f380b6344row7_col4\" class=\"data row7 col4\" >54.8</td> \n",
       "    </tr>    <tr> \n",
       "        <th id=\"T_2a04c84a_31f9_11e9_8031_409f380b6344level0_row8\" class=\"row_heading level0 row8\" >8</th> \n",
       "        <td id=\"T_2a04c84a_31f9_11e9_8031_409f380b6344row8_col0\" class=\"data row8 col0\" >Present residence since</td> \n",
       "        <td id=\"T_2a04c84a_31f9_11e9_8031_409f380b6344row8_col1\" class=\"data row8 col1\" >1</td> \n",
       "        <td id=\"T_2a04c84a_31f9_11e9_8031_409f380b6344row8_col2\" class=\"data row8 col2\" >2</td> \n",
       "        <td id=\"T_2a04c84a_31f9_11e9_8031_409f380b6344row8_col3\" class=\"data row8 col3\" >3</td> \n",
       "        <td id=\"T_2a04c84a_31f9_11e9_8031_409f380b6344row8_col4\" class=\"data row8 col4\" >4</td> \n",
       "    </tr>    <tr> \n",
       "        <th id=\"T_2a04c84a_31f9_11e9_8031_409f380b6344level0_row9\" class=\"row_heading level0 row9\" >9</th> \n",
       "        <td id=\"T_2a04c84a_31f9_11e9_8031_409f380b6344row9_col0\" class=\"data row9 col0\" >Percentage</td> \n",
       "        <td id=\"T_2a04c84a_31f9_11e9_8031_409f380b6344row9_col1\" class=\"data row9 col1\" >13</td> \n",
       "        <td id=\"T_2a04c84a_31f9_11e9_8031_409f380b6344row9_col2\" class=\"data row9 col2\" >30.8</td> \n",
       "        <td id=\"T_2a04c84a_31f9_11e9_8031_409f380b6344row9_col3\" class=\"data row9 col3\" >14.9</td> \n",
       "        <td id=\"T_2a04c84a_31f9_11e9_8031_409f380b6344row9_col4\" class=\"data row9 col4\" >41.3</td> \n",
       "    </tr>    <tr> \n",
       "        <th id=\"T_2a04c84a_31f9_11e9_8031_409f380b6344level0_row10\" class=\"row_heading level0 row10\" >10</th> \n",
       "        <td id=\"T_2a04c84a_31f9_11e9_8031_409f380b6344row10_col0\" class=\"data row10 col0\" >Property</td> \n",
       "        <td id=\"T_2a04c84a_31f9_11e9_8031_409f380b6344row10_col1\" class=\"data row10 col1\" >car or other</td> \n",
       "        <td id=\"T_2a04c84a_31f9_11e9_8031_409f380b6344row10_col2\" class=\"data row10 col2\" >real estate</td> \n",
       "        <td id=\"T_2a04c84a_31f9_11e9_8031_409f380b6344row10_col3\" class=\"data row10 col3\" >savings agreement/life insurance</td> \n",
       "        <td id=\"T_2a04c84a_31f9_11e9_8031_409f380b6344row10_col4\" class=\"data row10 col4\" >unknown / no property</td> \n",
       "    </tr>    <tr> \n",
       "        <th id=\"T_2a04c84a_31f9_11e9_8031_409f380b6344level0_row11\" class=\"row_heading level0 row11\" >11</th> \n",
       "        <td id=\"T_2a04c84a_31f9_11e9_8031_409f380b6344row11_col0\" class=\"data row11 col0\" >Percentage</td> \n",
       "        <td id=\"T_2a04c84a_31f9_11e9_8031_409f380b6344row11_col1\" class=\"data row11 col1\" >33.2</td> \n",
       "        <td id=\"T_2a04c84a_31f9_11e9_8031_409f380b6344row11_col2\" class=\"data row11 col2\" >28.2</td> \n",
       "        <td id=\"T_2a04c84a_31f9_11e9_8031_409f380b6344row11_col3\" class=\"data row11 col3\" >23.2</td> \n",
       "        <td id=\"T_2a04c84a_31f9_11e9_8031_409f380b6344row11_col4\" class=\"data row11 col4\" >15.4</td> \n",
       "    </tr>    <tr> \n",
       "        <th id=\"T_2a04c84a_31f9_11e9_8031_409f380b6344level0_row12\" class=\"row_heading level0 row12\" >12</th> \n",
       "        <td id=\"T_2a04c84a_31f9_11e9_8031_409f380b6344row12_col0\" class=\"data row12 col0\" >Status of existing checking account</td> \n",
       "        <td id=\"T_2a04c84a_31f9_11e9_8031_409f380b6344row12_col1\" class=\"data row12 col1\" >0 <= <200 DM</td> \n",
       "        <td id=\"T_2a04c84a_31f9_11e9_8031_409f380b6344row12_col2\" class=\"data row12 col2\" ><0 DM</td> \n",
       "        <td id=\"T_2a04c84a_31f9_11e9_8031_409f380b6344row12_col3\" class=\"data row12 col3\" >>= 200 DM </td> \n",
       "        <td id=\"T_2a04c84a_31f9_11e9_8031_409f380b6344row12_col4\" class=\"data row12 col4\" >no checking account</td> \n",
       "    </tr>    <tr> \n",
       "        <th id=\"T_2a04c84a_31f9_11e9_8031_409f380b6344level0_row13\" class=\"row_heading level0 row13\" >13</th> \n",
       "        <td id=\"T_2a04c84a_31f9_11e9_8031_409f380b6344row13_col0\" class=\"data row13 col0\" >Percentage</td> \n",
       "        <td id=\"T_2a04c84a_31f9_11e9_8031_409f380b6344row13_col1\" class=\"data row13 col1\" >26.9</td> \n",
       "        <td id=\"T_2a04c84a_31f9_11e9_8031_409f380b6344row13_col2\" class=\"data row13 col2\" >27.4</td> \n",
       "        <td id=\"T_2a04c84a_31f9_11e9_8031_409f380b6344row13_col3\" class=\"data row13 col3\" >6.3</td> \n",
       "        <td id=\"T_2a04c84a_31f9_11e9_8031_409f380b6344row13_col4\" class=\"data row13 col4\" >39.4</td> \n",
       "    </tr></tbody> \n",
       "</table> "
      ],
      "text/plain": [
       "<pandas.io.formats.style.Styler at 0x26a7202f978>"
      ]
     },
     "metadata": {},
     "output_type": "display_data"
    },
    {
     "data": {
      "text/html": [
       "<style  type=\"text/css\" >\n",
       "    #T_2a159bbe_31f9_11e9_9fdb_409f380b6344row1_col1 {\n",
       "            background-color:  lightpink;\n",
       "        }    #T_2a159bbe_31f9_11e9_9fdb_409f380b6344row1_col3 {\n",
       "            background-color:  lightpink;\n",
       "        }    #T_2a159bbe_31f9_11e9_9fdb_409f380b6344row1_col5 {\n",
       "            background-color:  lightpink;\n",
       "        }    #T_2a159bbe_31f9_11e9_9fdb_409f380b6344row3_col5 {\n",
       "            background-color:  lightpink;\n",
       "        }    #T_2a159bbe_31f9_11e9_9fdb_409f380b6344row5_col2 {\n",
       "            background-color:  lightpink;\n",
       "        }    #T_2a159bbe_31f9_11e9_9fdb_409f380b6344row5_col4 {\n",
       "            background-color:  lightpink;\n",
       "        }</style>  \n",
       "<table id=\"T_2a159bbe_31f9_11e9_9fdb_409f380b6344\" > \n",
       "<thead>    <tr> \n",
       "        <th class=\"blank level0\" ></th> \n",
       "        <th class=\"col_heading level0 col0\" >Attribute</th> \n",
       "        <th class=\"col_heading level0 col1\" >Category Option 1</th> \n",
       "        <th class=\"col_heading level0 col2\" >Category Option 2</th> \n",
       "        <th class=\"col_heading level0 col3\" >Category Option 3</th> \n",
       "        <th class=\"col_heading level0 col4\" >Category Option 4</th> \n",
       "        <th class=\"col_heading level0 col5\" >Category Option 5</th> \n",
       "    </tr></thead> \n",
       "<tbody>    <tr> \n",
       "        <th id=\"T_2a159bbe_31f9_11e9_9fdb_409f380b6344level0_row0\" class=\"row_heading level0 row0\" >0</th> \n",
       "        <td id=\"T_2a159bbe_31f9_11e9_9fdb_409f380b6344row0_col0\" class=\"data row0 col0\" >Credit history</td> \n",
       "        <td id=\"T_2a159bbe_31f9_11e9_9fdb_409f380b6344row0_col1\" class=\"data row0 col1\" >all credits at this bank paid back duly</td> \n",
       "        <td id=\"T_2a159bbe_31f9_11e9_9fdb_409f380b6344row0_col2\" class=\"data row0 col2\" >critical account</td> \n",
       "        <td id=\"T_2a159bbe_31f9_11e9_9fdb_409f380b6344row0_col3\" class=\"data row0 col3\" >delay in paying off</td> \n",
       "        <td id=\"T_2a159bbe_31f9_11e9_9fdb_409f380b6344row0_col4\" class=\"data row0 col4\" >existing credits paid back duly till now</td> \n",
       "        <td id=\"T_2a159bbe_31f9_11e9_9fdb_409f380b6344row0_col5\" class=\"data row0 col5\" >no credits taken</td> \n",
       "    </tr>    <tr> \n",
       "        <th id=\"T_2a159bbe_31f9_11e9_9fdb_409f380b6344level0_row1\" class=\"row_heading level0 row1\" >1</th> \n",
       "        <td id=\"T_2a159bbe_31f9_11e9_9fdb_409f380b6344row1_col0\" class=\"data row1 col0\" >Percentage</td> \n",
       "        <td id=\"T_2a159bbe_31f9_11e9_9fdb_409f380b6344row1_col1\" class=\"data row1 col1\" >4.9</td> \n",
       "        <td id=\"T_2a159bbe_31f9_11e9_9fdb_409f380b6344row1_col2\" class=\"data row1 col2\" >29.3</td> \n",
       "        <td id=\"T_2a159bbe_31f9_11e9_9fdb_409f380b6344row1_col3\" class=\"data row1 col3\" >8.8</td> \n",
       "        <td id=\"T_2a159bbe_31f9_11e9_9fdb_409f380b6344row1_col4\" class=\"data row1 col4\" >53</td> \n",
       "        <td id=\"T_2a159bbe_31f9_11e9_9fdb_409f380b6344row1_col5\" class=\"data row1 col5\" >4</td> \n",
       "    </tr>    <tr> \n",
       "        <th id=\"T_2a159bbe_31f9_11e9_9fdb_409f380b6344level0_row2\" class=\"row_heading level0 row2\" >2</th> \n",
       "        <td id=\"T_2a159bbe_31f9_11e9_9fdb_409f380b6344row2_col0\" class=\"data row2 col0\" >Present employment since</td> \n",
       "        <td id=\"T_2a159bbe_31f9_11e9_9fdb_409f380b6344row2_col1\" class=\"data row2 col1\" >1<= < 4 years</td> \n",
       "        <td id=\"T_2a159bbe_31f9_11e9_9fdb_409f380b6344row2_col2\" class=\"data row2 col2\" >4<= <7 years</td> \n",
       "        <td id=\"T_2a159bbe_31f9_11e9_9fdb_409f380b6344row2_col3\" class=\"data row2 col3\" ><1 years</td> \n",
       "        <td id=\"T_2a159bbe_31f9_11e9_9fdb_409f380b6344row2_col4\" class=\"data row2 col4\" >>=7 years</td> \n",
       "        <td id=\"T_2a159bbe_31f9_11e9_9fdb_409f380b6344row2_col5\" class=\"data row2 col5\" >unemployed</td> \n",
       "    </tr>    <tr> \n",
       "        <th id=\"T_2a159bbe_31f9_11e9_9fdb_409f380b6344level0_row3\" class=\"row_heading level0 row3\" >3</th> \n",
       "        <td id=\"T_2a159bbe_31f9_11e9_9fdb_409f380b6344row3_col0\" class=\"data row3 col0\" >Percentage</td> \n",
       "        <td id=\"T_2a159bbe_31f9_11e9_9fdb_409f380b6344row3_col1\" class=\"data row3 col1\" >33.9</td> \n",
       "        <td id=\"T_2a159bbe_31f9_11e9_9fdb_409f380b6344row3_col2\" class=\"data row3 col2\" >17.4</td> \n",
       "        <td id=\"T_2a159bbe_31f9_11e9_9fdb_409f380b6344row3_col3\" class=\"data row3 col3\" >17.2</td> \n",
       "        <td id=\"T_2a159bbe_31f9_11e9_9fdb_409f380b6344row3_col4\" class=\"data row3 col4\" >25.3</td> \n",
       "        <td id=\"T_2a159bbe_31f9_11e9_9fdb_409f380b6344row3_col5\" class=\"data row3 col5\" >6.2</td> \n",
       "    </tr>    <tr> \n",
       "        <th id=\"T_2a159bbe_31f9_11e9_9fdb_409f380b6344level0_row4\" class=\"row_heading level0 row4\" >4</th> \n",
       "        <td id=\"T_2a159bbe_31f9_11e9_9fdb_409f380b6344row4_col0\" class=\"data row4 col0\" >Savings account/bonds</td> \n",
       "        <td id=\"T_2a159bbe_31f9_11e9_9fdb_409f380b6344row4_col1\" class=\"data row4 col1\" >100 <= <500 DM</td> \n",
       "        <td id=\"T_2a159bbe_31f9_11e9_9fdb_409f380b6344row4_col2\" class=\"data row4 col2\" >500 <= < 1000 DM</td> \n",
       "        <td id=\"T_2a159bbe_31f9_11e9_9fdb_409f380b6344row4_col3\" class=\"data row4 col3\" ><100 DM</td> \n",
       "        <td id=\"T_2a159bbe_31f9_11e9_9fdb_409f380b6344row4_col4\" class=\"data row4 col4\" >>= 1000 DM</td> \n",
       "        <td id=\"T_2a159bbe_31f9_11e9_9fdb_409f380b6344row4_col5\" class=\"data row4 col5\" >no savings account</td> \n",
       "    </tr>    <tr> \n",
       "        <th id=\"T_2a159bbe_31f9_11e9_9fdb_409f380b6344level0_row5\" class=\"row_heading level0 row5\" >5</th> \n",
       "        <td id=\"T_2a159bbe_31f9_11e9_9fdb_409f380b6344row5_col0\" class=\"data row5 col0\" >Percentage</td> \n",
       "        <td id=\"T_2a159bbe_31f9_11e9_9fdb_409f380b6344row5_col1\" class=\"data row5 col1\" >10.3</td> \n",
       "        <td id=\"T_2a159bbe_31f9_11e9_9fdb_409f380b6344row5_col2\" class=\"data row5 col2\" >6.3</td> \n",
       "        <td id=\"T_2a159bbe_31f9_11e9_9fdb_409f380b6344row5_col3\" class=\"data row5 col3\" >60.3</td> \n",
       "        <td id=\"T_2a159bbe_31f9_11e9_9fdb_409f380b6344row5_col4\" class=\"data row5 col4\" >4.8</td> \n",
       "        <td id=\"T_2a159bbe_31f9_11e9_9fdb_409f380b6344row5_col5\" class=\"data row5 col5\" >18.3</td> \n",
       "    </tr></tbody> \n",
       "</table> "
      ],
      "text/plain": [
       "<pandas.io.formats.style.Styler at 0x26a7205c9b0>"
      ]
     },
     "metadata": {},
     "output_type": "display_data"
    },
    {
     "data": {
      "text/html": [
       "<style  type=\"text/css\" >\n",
       "    #T_2a1d8cfe_31f9_11e9_999c_409f380b6344row1_col1 {\n",
       "            background-color:  lightpink;\n",
       "        }    #T_2a1d8cfe_31f9_11e9_999c_409f380b6344row1_col4 {\n",
       "            background-color:  lightpink;\n",
       "        }    #T_2a1d8cfe_31f9_11e9_999c_409f380b6344row1_col5 {\n",
       "            background-color:  lightpink;\n",
       "        }    #T_2a1d8cfe_31f9_11e9_999c_409f380b6344row1_col7 {\n",
       "            background-color:  lightpink;\n",
       "        }    #T_2a1d8cfe_31f9_11e9_999c_409f380b6344row1_col9 {\n",
       "            background-color:  lightpink;\n",
       "        }    #T_2a1d8cfe_31f9_11e9_999c_409f380b6344row1_col10 {\n",
       "            background-color:  lightpink;\n",
       "        }</style>  \n",
       "<table id=\"T_2a1d8cfe_31f9_11e9_999c_409f380b6344\" > \n",
       "<thead>    <tr> \n",
       "        <th class=\"blank level0\" ></th> \n",
       "        <th class=\"col_heading level0 col0\" >Attribute</th> \n",
       "        <th class=\"col_heading level0 col1\" >Category Option 1</th> \n",
       "        <th class=\"col_heading level0 col2\" >Category Option 2</th> \n",
       "        <th class=\"col_heading level0 col3\" >Category Option 3</th> \n",
       "        <th class=\"col_heading level0 col4\" >Category Option 4</th> \n",
       "        <th class=\"col_heading level0 col5\" >Category Option 5</th> \n",
       "        <th class=\"col_heading level0 col6\" >Category Option 6</th> \n",
       "        <th class=\"col_heading level0 col7\" >Category Option 7</th> \n",
       "        <th class=\"col_heading level0 col8\" >Category Option 8</th> \n",
       "        <th class=\"col_heading level0 col9\" >Category Option 9</th> \n",
       "        <th class=\"col_heading level0 col10\" >Category Option 10</th> \n",
       "    </tr></thead> \n",
       "<tbody>    <tr> \n",
       "        <th id=\"T_2a1d8cfe_31f9_11e9_999c_409f380b6344level0_row0\" class=\"row_heading level0 row0\" >0</th> \n",
       "        <td id=\"T_2a1d8cfe_31f9_11e9_999c_409f380b6344row0_col0\" class=\"data row0 col0\" >Purpose</td> \n",
       "        <td id=\"T_2a1d8cfe_31f9_11e9_999c_409f380b6344row0_col1\" class=\"data row0 col1\" >business</td> \n",
       "        <td id=\"T_2a1d8cfe_31f9_11e9_999c_409f380b6344row0_col2\" class=\"data row0 col2\" >car (new)</td> \n",
       "        <td id=\"T_2a1d8cfe_31f9_11e9_999c_409f380b6344row0_col3\" class=\"data row0 col3\" >car (used)</td> \n",
       "        <td id=\"T_2a1d8cfe_31f9_11e9_999c_409f380b6344row0_col4\" class=\"data row0 col4\" >domestic appliances</td> \n",
       "        <td id=\"T_2a1d8cfe_31f9_11e9_999c_409f380b6344row0_col5\" class=\"data row0 col5\" >education</td> \n",
       "        <td id=\"T_2a1d8cfe_31f9_11e9_999c_409f380b6344row0_col6\" class=\"data row0 col6\" >furniture/equipment</td> \n",
       "        <td id=\"T_2a1d8cfe_31f9_11e9_999c_409f380b6344row0_col7\" class=\"data row0 col7\" >others</td> \n",
       "        <td id=\"T_2a1d8cfe_31f9_11e9_999c_409f380b6344row0_col8\" class=\"data row0 col8\" >radio/television</td> \n",
       "        <td id=\"T_2a1d8cfe_31f9_11e9_999c_409f380b6344row0_col9\" class=\"data row0 col9\" >repairs</td> \n",
       "        <td id=\"T_2a1d8cfe_31f9_11e9_999c_409f380b6344row0_col10\" class=\"data row0 col10\" >retraining</td> \n",
       "    </tr>    <tr> \n",
       "        <th id=\"T_2a1d8cfe_31f9_11e9_999c_409f380b6344level0_row1\" class=\"row_heading level0 row1\" >1</th> \n",
       "        <td id=\"T_2a1d8cfe_31f9_11e9_999c_409f380b6344row1_col0\" class=\"data row1 col0\" >Percentage</td> \n",
       "        <td id=\"T_2a1d8cfe_31f9_11e9_999c_409f380b6344row1_col1\" class=\"data row1 col1\" >9.7</td> \n",
       "        <td id=\"T_2a1d8cfe_31f9_11e9_999c_409f380b6344row1_col2\" class=\"data row1 col2\" >23.4</td> \n",
       "        <td id=\"T_2a1d8cfe_31f9_11e9_999c_409f380b6344row1_col3\" class=\"data row1 col3\" >10.3</td> \n",
       "        <td id=\"T_2a1d8cfe_31f9_11e9_999c_409f380b6344row1_col4\" class=\"data row1 col4\" >1.2</td> \n",
       "        <td id=\"T_2a1d8cfe_31f9_11e9_999c_409f380b6344row1_col5\" class=\"data row1 col5\" >5</td> \n",
       "        <td id=\"T_2a1d8cfe_31f9_11e9_999c_409f380b6344row1_col6\" class=\"data row1 col6\" >18.1</td> \n",
       "        <td id=\"T_2a1d8cfe_31f9_11e9_999c_409f380b6344row1_col7\" class=\"data row1 col7\" >1.2</td> \n",
       "        <td id=\"T_2a1d8cfe_31f9_11e9_999c_409f380b6344row1_col8\" class=\"data row1 col8\" >28</td> \n",
       "        <td id=\"T_2a1d8cfe_31f9_11e9_999c_409f380b6344row1_col9\" class=\"data row1 col9\" >2.2</td> \n",
       "        <td id=\"T_2a1d8cfe_31f9_11e9_999c_409f380b6344row1_col10\" class=\"data row1 col10\" >0.9</td> \n",
       "    </tr></tbody> \n",
       "</table> "
      ],
      "text/plain": [
       "<pandas.io.formats.style.Styler at 0x26a7205c4e0>"
      ]
     },
     "metadata": {},
     "output_type": "display_data"
    }
   ],
   "source": [
    "column_names=df.columns.tolist()\n",
    "column_names.remove(\"Credit amount\") #numerical variable\n",
    "column_names.remove(\"Age in years\") #numerical variable\n",
    "column_names.remove(\"Duration in month\") #numerical variable\n",
    "#----------------------------------------------------------------------------------------\n",
    "\n",
    "column_names_cat={}\n",
    "for name in column_names:\n",
    "    column_names_cat[name]=len(df[name].unique().tolist())\n",
    "\n",
    "    marginal_report_cluster={}\n",
    "for itr in range(0,np.asarray(list(column_names_cat.values())).max()+1):\n",
    "    if [k for k,v in column_names_cat.items() if v == itr]:\n",
    "        marginal_report_cluster[itr]=[k for k,v in column_names_cat.items() if v == itr]\n",
    "\n",
    "#----------------------------------------------------------------------------------------\n",
    "for key in marginal_report_cluster.keys():\n",
    "    marginal_percentage_report=[]\n",
    "    for name in sorted(marginal_report_cluster[key]):\n",
    "        data=pd.crosstab(df[name],columns=[\"Percentage\"]).apply(lambda r: (round((r/r.sum())*100,2)), axis=0).reset_index()\n",
    "        data.columns=[name,\"Percentage\"]\n",
    "        data=data.transpose().reset_index()\n",
    "        [marginal_percentage_report.append(x) for x in data.values.tolist()]\n",
    "        options=[]\n",
    "    marginal_percentage_report=pd.DataFrame(marginal_percentage_report)\n",
    "    [options.append(\"Category Option \"+str(itr)) for itr in range(1,len(marginal_percentage_report.columns))]\n",
    "    marginal_percentage_report.columns=[\"Attribute\"]+options\n",
    "    display(marginal_percentage_report.style.apply(style_specific_cell, axis=None))\n",
    "    "
   ]
  },
  {
   "cell_type": "code",
   "execution_count": 8,
   "metadata": {},
   "outputs": [],
   "source": [
    "df=pd.read_csv(\"german_data_credit_cat.csv\")\n",
    "number_of_credit={1:1,2:2,3:2,4:2}\n",
    "df[\"Number of existing credits at this bank\"]=df[\"Number of existing credits at this bank\"].map(number_of_credit)\n",
    "\n",
    "Status_of_existing_checking_account={'A14':\"no checking account\",'A11':\"<0 DM\", 'A12': \">0 DM\",'A13':\">0 DM\"}\n",
    "df[\"Status of existing checking account\"]=df[\"Status of existing checking account\"].map(Status_of_existing_checking_account)\n",
    "\n",
    "Credit_history={\"A34\":\"critical account/delay in paying off\",\"A33\":\"critical account/delay in paying off\",\"A32\":\"all credit / existing credits paid back duly till now\",\"A31\":\"all credit / existing credits paid back duly till now\",\"A30\":\"no credits taken\"}\n",
    "df[\"Credit history\"]=df[\"Credit history\"].map(Credit_history)\n",
    "\n",
    "\n",
    "\n",
    "\n",
    "Purpose={\"A40\" : \"car (new)\", \"A41\" : \"car (used)\", \"A42\" : \"Home Related\", \"A43\" :\"Home Related\" , \"A44\" : \"Home Related\", \"A45\" : \"Home Related\", \"A46\" : \"others\", 'A47' : 'others','A48' : 'others','A49' : 'others','A410' : 'others'}\n",
    "df[\"Purpose\"]=df[\"Purpose\"].map(Purpose)\n",
    "\n",
    "Saving_account={\"A65\" : \"no savings account\",\"A61\" :\"<100 DM\",\"A62\" : \"<500 DM\",\"A63\" :\">500 DM\", \"A64\" :\">500 DM\"}\n",
    "df[\"Savings account/bonds\"]=df[\"Savings account/bonds\"].map(Saving_account)\n",
    "\n",
    "\n",
    "\n",
    "           \n",
    "Present_employment={'A75':\">=7 years\", 'A74':\"4<= <7 years\",  'A73':\"1<= < 4 years\", 'A72':\"<1 years\",'A71':\"<1 years\"}\n",
    "df[\"Present employment since\"]=df[\"Present employment since\"].map(Present_employment)\n",
    "\n",
    "\n",
    "\n",
    "\n",
    "Personal_status_and_sex={ 'A95':\"female\",'A94':\"male\",'A93':\"male\", 'A92':\"female\", 'A91':\"male\"}\n",
    "df[\"Personal status and sex\"]=df[\"Personal status and sex\"].map(Personal_status_and_sex)\n",
    "\n",
    "\n",
    "Other_debtors_guarantors={'A101':\"none\", 'A102':\"co-applicant/guarantor\", 'A103':\"co-applicant/guarantor\"}\n",
    "df[\"Other debtors / guarantors\"]=df[\"Other debtors / guarantors\"].map(Other_debtors_guarantors)\n",
    "\n",
    "\n",
    "Property={'A121':\"real estate\", 'A122':\"savings agreement/life insurance\", 'A123':\"car or other\", 'A124':\"unknown / no property\"}\n",
    "df[\"Property\"]=df[\"Property\"].map(Property)\n",
    "\n",
    "\n",
    "\n",
    "\n",
    "Other_installment_plans={'A143':\"none\", 'A142':\"bank/store\", 'A141':\"bank/store\"}\n",
    "df[\"Other installment plans\"]=df[\"Other installment plans\"].map(Other_installment_plans)\n",
    "\n",
    "Housing={'A153':\"for free\", 'A152':\"own\", 'A151':\"rent\"}\n",
    "df[\"Housing\"]=df[\"Housing\"].map(Housing)\n",
    "\n",
    "\n",
    "\n",
    "\n",
    "Job={'A174':\"employed\", 'A173':\"employed\", 'A172':\"unemployed\", 'A171':\"unemployed\"}\n",
    "df[\"Job\"]=df[\"Job\"].map(Job)\n",
    "\n",
    "Telephone={'A192':\"yes\", 'A191':\"none\"}\n",
    "df[\"Telephone\"]=df[\"Telephone\"].map(Telephone)\n",
    "\n",
    "\n",
    "\n",
    "foreign_worker={'A201':\"yes\", 'A202':\"no\"}\n",
    "df[\"foreign worker\"]=df[\"foreign worker\"].map(foreign_worker)\n",
    "\n",
    "\n",
    "\n",
    "risk={1:\"Good Risk\", 2:\"Bad Risk\"}\n",
    "df[\"Cost Matrix(Risk)\"]=df[\"Cost Matrix(Risk)\"].map(risk)"
   ]
  },
  {
   "cell_type": "code",
   "execution_count": 9,
   "metadata": {},
   "outputs": [
    {
     "data": {
      "text/html": [
       "<style  type=\"text/css\" >\n",
       "    #T_2a83ad34_31f9_11e9_ad83_409f380b6344row9_col1 {\n",
       "            background-color:  lightpink;\n",
       "        }    #T_2a83ad34_31f9_11e9_ad83_409f380b6344row17_col1 {\n",
       "            background-color:  lightpink;\n",
       "        }</style>  \n",
       "<table id=\"T_2a83ad34_31f9_11e9_ad83_409f380b6344\" > \n",
       "<thead>    <tr> \n",
       "        <th class=\"blank level0\" ></th> \n",
       "        <th class=\"col_heading level0 col0\" >Attribute</th> \n",
       "        <th class=\"col_heading level0 col1\" >Category Option 1</th> \n",
       "        <th class=\"col_heading level0 col2\" >Category Option 2</th> \n",
       "    </tr></thead> \n",
       "<tbody>    <tr> \n",
       "        <th id=\"T_2a83ad34_31f9_11e9_ad83_409f380b6344level0_row0\" class=\"row_heading level0 row0\" >0</th> \n",
       "        <td id=\"T_2a83ad34_31f9_11e9_ad83_409f380b6344row0_col0\" class=\"data row0 col0\" >Cost Matrix(Risk)</td> \n",
       "        <td id=\"T_2a83ad34_31f9_11e9_ad83_409f380b6344row0_col1\" class=\"data row0 col1\" >Bad Risk</td> \n",
       "        <td id=\"T_2a83ad34_31f9_11e9_ad83_409f380b6344row0_col2\" class=\"data row0 col2\" >Good Risk</td> \n",
       "    </tr>    <tr> \n",
       "        <th id=\"T_2a83ad34_31f9_11e9_ad83_409f380b6344level0_row1\" class=\"row_heading level0 row1\" >1</th> \n",
       "        <td id=\"T_2a83ad34_31f9_11e9_ad83_409f380b6344row1_col0\" class=\"data row1 col0\" >Percentage</td> \n",
       "        <td id=\"T_2a83ad34_31f9_11e9_ad83_409f380b6344row1_col1\" class=\"data row1 col1\" >30</td> \n",
       "        <td id=\"T_2a83ad34_31f9_11e9_ad83_409f380b6344row1_col2\" class=\"data row1 col2\" >70</td> \n",
       "    </tr>    <tr> \n",
       "        <th id=\"T_2a83ad34_31f9_11e9_ad83_409f380b6344level0_row2\" class=\"row_heading level0 row2\" >2</th> \n",
       "        <td id=\"T_2a83ad34_31f9_11e9_ad83_409f380b6344row2_col0\" class=\"data row2 col0\" >Job</td> \n",
       "        <td id=\"T_2a83ad34_31f9_11e9_ad83_409f380b6344row2_col1\" class=\"data row2 col1\" >employed</td> \n",
       "        <td id=\"T_2a83ad34_31f9_11e9_ad83_409f380b6344row2_col2\" class=\"data row2 col2\" >unemployed</td> \n",
       "    </tr>    <tr> \n",
       "        <th id=\"T_2a83ad34_31f9_11e9_ad83_409f380b6344level0_row3\" class=\"row_heading level0 row3\" >3</th> \n",
       "        <td id=\"T_2a83ad34_31f9_11e9_ad83_409f380b6344row3_col0\" class=\"data row3 col0\" >Percentage</td> \n",
       "        <td id=\"T_2a83ad34_31f9_11e9_ad83_409f380b6344row3_col1\" class=\"data row3 col1\" >77.8</td> \n",
       "        <td id=\"T_2a83ad34_31f9_11e9_ad83_409f380b6344row3_col2\" class=\"data row3 col2\" >22.2</td> \n",
       "    </tr>    <tr> \n",
       "        <th id=\"T_2a83ad34_31f9_11e9_ad83_409f380b6344level0_row4\" class=\"row_heading level0 row4\" >4</th> \n",
       "        <td id=\"T_2a83ad34_31f9_11e9_ad83_409f380b6344row4_col0\" class=\"data row4 col0\" >Number of existing credits at this bank</td> \n",
       "        <td id=\"T_2a83ad34_31f9_11e9_ad83_409f380b6344row4_col1\" class=\"data row4 col1\" >1</td> \n",
       "        <td id=\"T_2a83ad34_31f9_11e9_ad83_409f380b6344row4_col2\" class=\"data row4 col2\" >2</td> \n",
       "    </tr>    <tr> \n",
       "        <th id=\"T_2a83ad34_31f9_11e9_ad83_409f380b6344level0_row5\" class=\"row_heading level0 row5\" >5</th> \n",
       "        <td id=\"T_2a83ad34_31f9_11e9_ad83_409f380b6344row5_col0\" class=\"data row5 col0\" >Percentage</td> \n",
       "        <td id=\"T_2a83ad34_31f9_11e9_ad83_409f380b6344row5_col1\" class=\"data row5 col1\" >63.3</td> \n",
       "        <td id=\"T_2a83ad34_31f9_11e9_ad83_409f380b6344row5_col2\" class=\"data row5 col2\" >36.7</td> \n",
       "    </tr>    <tr> \n",
       "        <th id=\"T_2a83ad34_31f9_11e9_ad83_409f380b6344level0_row6\" class=\"row_heading level0 row6\" >6</th> \n",
       "        <td id=\"T_2a83ad34_31f9_11e9_ad83_409f380b6344row6_col0\" class=\"data row6 col0\" >Number of people being liable to provide maintenance for</td> \n",
       "        <td id=\"T_2a83ad34_31f9_11e9_ad83_409f380b6344row6_col1\" class=\"data row6 col1\" >1</td> \n",
       "        <td id=\"T_2a83ad34_31f9_11e9_ad83_409f380b6344row6_col2\" class=\"data row6 col2\" >2</td> \n",
       "    </tr>    <tr> \n",
       "        <th id=\"T_2a83ad34_31f9_11e9_ad83_409f380b6344level0_row7\" class=\"row_heading level0 row7\" >7</th> \n",
       "        <td id=\"T_2a83ad34_31f9_11e9_ad83_409f380b6344row7_col0\" class=\"data row7 col0\" >Percentage</td> \n",
       "        <td id=\"T_2a83ad34_31f9_11e9_ad83_409f380b6344row7_col1\" class=\"data row7 col1\" >84.5</td> \n",
       "        <td id=\"T_2a83ad34_31f9_11e9_ad83_409f380b6344row7_col2\" class=\"data row7 col2\" >15.5</td> \n",
       "    </tr>    <tr> \n",
       "        <th id=\"T_2a83ad34_31f9_11e9_ad83_409f380b6344level0_row8\" class=\"row_heading level0 row8\" >8</th> \n",
       "        <td id=\"T_2a83ad34_31f9_11e9_ad83_409f380b6344row8_col0\" class=\"data row8 col0\" >Other debtors / guarantors</td> \n",
       "        <td id=\"T_2a83ad34_31f9_11e9_ad83_409f380b6344row8_col1\" class=\"data row8 col1\" >co-applicant/guarantor</td> \n",
       "        <td id=\"T_2a83ad34_31f9_11e9_ad83_409f380b6344row8_col2\" class=\"data row8 col2\" >none</td> \n",
       "    </tr>    <tr> \n",
       "        <th id=\"T_2a83ad34_31f9_11e9_ad83_409f380b6344level0_row9\" class=\"row_heading level0 row9\" >9</th> \n",
       "        <td id=\"T_2a83ad34_31f9_11e9_ad83_409f380b6344row9_col0\" class=\"data row9 col0\" >Percentage</td> \n",
       "        <td id=\"T_2a83ad34_31f9_11e9_ad83_409f380b6344row9_col1\" class=\"data row9 col1\" >9.3</td> \n",
       "        <td id=\"T_2a83ad34_31f9_11e9_ad83_409f380b6344row9_col2\" class=\"data row9 col2\" >90.7</td> \n",
       "    </tr>    <tr> \n",
       "        <th id=\"T_2a83ad34_31f9_11e9_ad83_409f380b6344level0_row10\" class=\"row_heading level0 row10\" >10</th> \n",
       "        <td id=\"T_2a83ad34_31f9_11e9_ad83_409f380b6344row10_col0\" class=\"data row10 col0\" >Other installment plans</td> \n",
       "        <td id=\"T_2a83ad34_31f9_11e9_ad83_409f380b6344row10_col1\" class=\"data row10 col1\" >bank/store</td> \n",
       "        <td id=\"T_2a83ad34_31f9_11e9_ad83_409f380b6344row10_col2\" class=\"data row10 col2\" >none</td> \n",
       "    </tr>    <tr> \n",
       "        <th id=\"T_2a83ad34_31f9_11e9_ad83_409f380b6344level0_row11\" class=\"row_heading level0 row11\" >11</th> \n",
       "        <td id=\"T_2a83ad34_31f9_11e9_ad83_409f380b6344row11_col0\" class=\"data row11 col0\" >Percentage</td> \n",
       "        <td id=\"T_2a83ad34_31f9_11e9_ad83_409f380b6344row11_col1\" class=\"data row11 col1\" >18.6</td> \n",
       "        <td id=\"T_2a83ad34_31f9_11e9_ad83_409f380b6344row11_col2\" class=\"data row11 col2\" >81.4</td> \n",
       "    </tr>    <tr> \n",
       "        <th id=\"T_2a83ad34_31f9_11e9_ad83_409f380b6344level0_row12\" class=\"row_heading level0 row12\" >12</th> \n",
       "        <td id=\"T_2a83ad34_31f9_11e9_ad83_409f380b6344row12_col0\" class=\"data row12 col0\" >Personal status and sex</td> \n",
       "        <td id=\"T_2a83ad34_31f9_11e9_ad83_409f380b6344row12_col1\" class=\"data row12 col1\" >female</td> \n",
       "        <td id=\"T_2a83ad34_31f9_11e9_ad83_409f380b6344row12_col2\" class=\"data row12 col2\" >male</td> \n",
       "    </tr>    <tr> \n",
       "        <th id=\"T_2a83ad34_31f9_11e9_ad83_409f380b6344level0_row13\" class=\"row_heading level0 row13\" >13</th> \n",
       "        <td id=\"T_2a83ad34_31f9_11e9_ad83_409f380b6344row13_col0\" class=\"data row13 col0\" >Percentage</td> \n",
       "        <td id=\"T_2a83ad34_31f9_11e9_ad83_409f380b6344row13_col1\" class=\"data row13 col1\" >31</td> \n",
       "        <td id=\"T_2a83ad34_31f9_11e9_ad83_409f380b6344row13_col2\" class=\"data row13 col2\" >69</td> \n",
       "    </tr>    <tr> \n",
       "        <th id=\"T_2a83ad34_31f9_11e9_ad83_409f380b6344level0_row14\" class=\"row_heading level0 row14\" >14</th> \n",
       "        <td id=\"T_2a83ad34_31f9_11e9_ad83_409f380b6344row14_col0\" class=\"data row14 col0\" >Telephone</td> \n",
       "        <td id=\"T_2a83ad34_31f9_11e9_ad83_409f380b6344row14_col1\" class=\"data row14 col1\" >none</td> \n",
       "        <td id=\"T_2a83ad34_31f9_11e9_ad83_409f380b6344row14_col2\" class=\"data row14 col2\" >yes</td> \n",
       "    </tr>    <tr> \n",
       "        <th id=\"T_2a83ad34_31f9_11e9_ad83_409f380b6344level0_row15\" class=\"row_heading level0 row15\" >15</th> \n",
       "        <td id=\"T_2a83ad34_31f9_11e9_ad83_409f380b6344row15_col0\" class=\"data row15 col0\" >Percentage</td> \n",
       "        <td id=\"T_2a83ad34_31f9_11e9_ad83_409f380b6344row15_col1\" class=\"data row15 col1\" >59.6</td> \n",
       "        <td id=\"T_2a83ad34_31f9_11e9_ad83_409f380b6344row15_col2\" class=\"data row15 col2\" >40.4</td> \n",
       "    </tr>    <tr> \n",
       "        <th id=\"T_2a83ad34_31f9_11e9_ad83_409f380b6344level0_row16\" class=\"row_heading level0 row16\" >16</th> \n",
       "        <td id=\"T_2a83ad34_31f9_11e9_ad83_409f380b6344row16_col0\" class=\"data row16 col0\" >foreign worker</td> \n",
       "        <td id=\"T_2a83ad34_31f9_11e9_ad83_409f380b6344row16_col1\" class=\"data row16 col1\" >no</td> \n",
       "        <td id=\"T_2a83ad34_31f9_11e9_ad83_409f380b6344row16_col2\" class=\"data row16 col2\" >yes</td> \n",
       "    </tr>    <tr> \n",
       "        <th id=\"T_2a83ad34_31f9_11e9_ad83_409f380b6344level0_row17\" class=\"row_heading level0 row17\" >17</th> \n",
       "        <td id=\"T_2a83ad34_31f9_11e9_ad83_409f380b6344row17_col0\" class=\"data row17 col0\" >Percentage</td> \n",
       "        <td id=\"T_2a83ad34_31f9_11e9_ad83_409f380b6344row17_col1\" class=\"data row17 col1\" >3.7</td> \n",
       "        <td id=\"T_2a83ad34_31f9_11e9_ad83_409f380b6344row17_col2\" class=\"data row17 col2\" >96.3</td> \n",
       "    </tr></tbody> \n",
       "</table> "
      ],
      "text/plain": [
       "<pandas.io.formats.style.Styler at 0x26a71e43cc0>"
      ]
     },
     "metadata": {},
     "output_type": "display_data"
    },
    {
     "data": {
      "text/html": [
       "<style  type=\"text/css\" >\n",
       "    #T_2a943380_31f9_11e9_9b23_409f380b6344row1_col3 {\n",
       "            background-color:  lightpink;\n",
       "        }</style>  \n",
       "<table id=\"T_2a943380_31f9_11e9_9b23_409f380b6344\" > \n",
       "<thead>    <tr> \n",
       "        <th class=\"blank level0\" ></th> \n",
       "        <th class=\"col_heading level0 col0\" >Attribute</th> \n",
       "        <th class=\"col_heading level0 col1\" >Category Option 1</th> \n",
       "        <th class=\"col_heading level0 col2\" >Category Option 2</th> \n",
       "        <th class=\"col_heading level0 col3\" >Category Option 3</th> \n",
       "    </tr></thead> \n",
       "<tbody>    <tr> \n",
       "        <th id=\"T_2a943380_31f9_11e9_9b23_409f380b6344level0_row0\" class=\"row_heading level0 row0\" >0</th> \n",
       "        <td id=\"T_2a943380_31f9_11e9_9b23_409f380b6344row0_col0\" class=\"data row0 col0\" >Credit history</td> \n",
       "        <td id=\"T_2a943380_31f9_11e9_9b23_409f380b6344row0_col1\" class=\"data row0 col1\" >all credit / existing credits paid back duly till now</td> \n",
       "        <td id=\"T_2a943380_31f9_11e9_9b23_409f380b6344row0_col2\" class=\"data row0 col2\" >critical account/delay in paying off</td> \n",
       "        <td id=\"T_2a943380_31f9_11e9_9b23_409f380b6344row0_col3\" class=\"data row0 col3\" >no credits taken</td> \n",
       "    </tr>    <tr> \n",
       "        <th id=\"T_2a943380_31f9_11e9_9b23_409f380b6344level0_row1\" class=\"row_heading level0 row1\" >1</th> \n",
       "        <td id=\"T_2a943380_31f9_11e9_9b23_409f380b6344row1_col0\" class=\"data row1 col0\" >Percentage</td> \n",
       "        <td id=\"T_2a943380_31f9_11e9_9b23_409f380b6344row1_col1\" class=\"data row1 col1\" >57.9</td> \n",
       "        <td id=\"T_2a943380_31f9_11e9_9b23_409f380b6344row1_col2\" class=\"data row1 col2\" >38.1</td> \n",
       "        <td id=\"T_2a943380_31f9_11e9_9b23_409f380b6344row1_col3\" class=\"data row1 col3\" >4</td> \n",
       "    </tr>    <tr> \n",
       "        <th id=\"T_2a943380_31f9_11e9_9b23_409f380b6344level0_row2\" class=\"row_heading level0 row2\" >2</th> \n",
       "        <td id=\"T_2a943380_31f9_11e9_9b23_409f380b6344row2_col0\" class=\"data row2 col0\" >Housing</td> \n",
       "        <td id=\"T_2a943380_31f9_11e9_9b23_409f380b6344row2_col1\" class=\"data row2 col1\" >for free</td> \n",
       "        <td id=\"T_2a943380_31f9_11e9_9b23_409f380b6344row2_col2\" class=\"data row2 col2\" >own</td> \n",
       "        <td id=\"T_2a943380_31f9_11e9_9b23_409f380b6344row2_col3\" class=\"data row2 col3\" >rent</td> \n",
       "    </tr>    <tr> \n",
       "        <th id=\"T_2a943380_31f9_11e9_9b23_409f380b6344level0_row3\" class=\"row_heading level0 row3\" >3</th> \n",
       "        <td id=\"T_2a943380_31f9_11e9_9b23_409f380b6344row3_col0\" class=\"data row3 col0\" >Percentage</td> \n",
       "        <td id=\"T_2a943380_31f9_11e9_9b23_409f380b6344row3_col1\" class=\"data row3 col1\" >10.8</td> \n",
       "        <td id=\"T_2a943380_31f9_11e9_9b23_409f380b6344row3_col2\" class=\"data row3 col2\" >71.3</td> \n",
       "        <td id=\"T_2a943380_31f9_11e9_9b23_409f380b6344row3_col3\" class=\"data row3 col3\" >17.9</td> \n",
       "    </tr>    <tr> \n",
       "        <th id=\"T_2a943380_31f9_11e9_9b23_409f380b6344level0_row4\" class=\"row_heading level0 row4\" >4</th> \n",
       "        <td id=\"T_2a943380_31f9_11e9_9b23_409f380b6344row4_col0\" class=\"data row4 col0\" >Status of existing checking account</td> \n",
       "        <td id=\"T_2a943380_31f9_11e9_9b23_409f380b6344row4_col1\" class=\"data row4 col1\" ><0 DM</td> \n",
       "        <td id=\"T_2a943380_31f9_11e9_9b23_409f380b6344row4_col2\" class=\"data row4 col2\" >>0 DM</td> \n",
       "        <td id=\"T_2a943380_31f9_11e9_9b23_409f380b6344row4_col3\" class=\"data row4 col3\" >no checking account</td> \n",
       "    </tr>    <tr> \n",
       "        <th id=\"T_2a943380_31f9_11e9_9b23_409f380b6344level0_row5\" class=\"row_heading level0 row5\" >5</th> \n",
       "        <td id=\"T_2a943380_31f9_11e9_9b23_409f380b6344row5_col0\" class=\"data row5 col0\" >Percentage</td> \n",
       "        <td id=\"T_2a943380_31f9_11e9_9b23_409f380b6344row5_col1\" class=\"data row5 col1\" >27.4</td> \n",
       "        <td id=\"T_2a943380_31f9_11e9_9b23_409f380b6344row5_col2\" class=\"data row5 col2\" >33.2</td> \n",
       "        <td id=\"T_2a943380_31f9_11e9_9b23_409f380b6344row5_col3\" class=\"data row5 col3\" >39.4</td> \n",
       "    </tr></tbody> \n",
       "</table> "
      ],
      "text/plain": [
       "<pandas.io.formats.style.Styler at 0x26a720861d0>"
      ]
     },
     "metadata": {},
     "output_type": "display_data"
    },
    {
     "data": {
      "text/html": [
       "<style  type=\"text/css\" >\n",
       "</style>  \n",
       "<table id=\"T_2ab2a7fa_31f9_11e9_b691_409f380b6344\" > \n",
       "<thead>    <tr> \n",
       "        <th class=\"blank level0\" ></th> \n",
       "        <th class=\"col_heading level0 col0\" >Attribute</th> \n",
       "        <th class=\"col_heading level0 col1\" >Category Option 1</th> \n",
       "        <th class=\"col_heading level0 col2\" >Category Option 2</th> \n",
       "        <th class=\"col_heading level0 col3\" >Category Option 3</th> \n",
       "        <th class=\"col_heading level0 col4\" >Category Option 4</th> \n",
       "    </tr></thead> \n",
       "<tbody>    <tr> \n",
       "        <th id=\"T_2ab2a7fa_31f9_11e9_b691_409f380b6344level0_row0\" class=\"row_heading level0 row0\" >0</th> \n",
       "        <td id=\"T_2ab2a7fa_31f9_11e9_b691_409f380b6344row0_col0\" class=\"data row0 col0\" >Installment rate in percentage of disposable income</td> \n",
       "        <td id=\"T_2ab2a7fa_31f9_11e9_b691_409f380b6344row0_col1\" class=\"data row0 col1\" >1</td> \n",
       "        <td id=\"T_2ab2a7fa_31f9_11e9_b691_409f380b6344row0_col2\" class=\"data row0 col2\" >2</td> \n",
       "        <td id=\"T_2ab2a7fa_31f9_11e9_b691_409f380b6344row0_col3\" class=\"data row0 col3\" >3</td> \n",
       "        <td id=\"T_2ab2a7fa_31f9_11e9_b691_409f380b6344row0_col4\" class=\"data row0 col4\" >4</td> \n",
       "    </tr>    <tr> \n",
       "        <th id=\"T_2ab2a7fa_31f9_11e9_b691_409f380b6344level0_row1\" class=\"row_heading level0 row1\" >1</th> \n",
       "        <td id=\"T_2ab2a7fa_31f9_11e9_b691_409f380b6344row1_col0\" class=\"data row1 col0\" >Percentage</td> \n",
       "        <td id=\"T_2ab2a7fa_31f9_11e9_b691_409f380b6344row1_col1\" class=\"data row1 col1\" >13.6</td> \n",
       "        <td id=\"T_2ab2a7fa_31f9_11e9_b691_409f380b6344row1_col2\" class=\"data row1 col2\" >23.1</td> \n",
       "        <td id=\"T_2ab2a7fa_31f9_11e9_b691_409f380b6344row1_col3\" class=\"data row1 col3\" >15.7</td> \n",
       "        <td id=\"T_2ab2a7fa_31f9_11e9_b691_409f380b6344row1_col4\" class=\"data row1 col4\" >47.6</td> \n",
       "    </tr>    <tr> \n",
       "        <th id=\"T_2ab2a7fa_31f9_11e9_b691_409f380b6344level0_row2\" class=\"row_heading level0 row2\" >2</th> \n",
       "        <td id=\"T_2ab2a7fa_31f9_11e9_b691_409f380b6344row2_col0\" class=\"data row2 col0\" >Present employment since</td> \n",
       "        <td id=\"T_2ab2a7fa_31f9_11e9_b691_409f380b6344row2_col1\" class=\"data row2 col1\" >1<= < 4 years</td> \n",
       "        <td id=\"T_2ab2a7fa_31f9_11e9_b691_409f380b6344row2_col2\" class=\"data row2 col2\" >4<= <7 years</td> \n",
       "        <td id=\"T_2ab2a7fa_31f9_11e9_b691_409f380b6344row2_col3\" class=\"data row2 col3\" ><1 years</td> \n",
       "        <td id=\"T_2ab2a7fa_31f9_11e9_b691_409f380b6344row2_col4\" class=\"data row2 col4\" >>=7 years</td> \n",
       "    </tr>    <tr> \n",
       "        <th id=\"T_2ab2a7fa_31f9_11e9_b691_409f380b6344level0_row3\" class=\"row_heading level0 row3\" >3</th> \n",
       "        <td id=\"T_2ab2a7fa_31f9_11e9_b691_409f380b6344row3_col0\" class=\"data row3 col0\" >Percentage</td> \n",
       "        <td id=\"T_2ab2a7fa_31f9_11e9_b691_409f380b6344row3_col1\" class=\"data row3 col1\" >33.9</td> \n",
       "        <td id=\"T_2ab2a7fa_31f9_11e9_b691_409f380b6344row3_col2\" class=\"data row3 col2\" >17.4</td> \n",
       "        <td id=\"T_2ab2a7fa_31f9_11e9_b691_409f380b6344row3_col3\" class=\"data row3 col3\" >23.4</td> \n",
       "        <td id=\"T_2ab2a7fa_31f9_11e9_b691_409f380b6344row3_col4\" class=\"data row3 col4\" >25.3</td> \n",
       "    </tr>    <tr> \n",
       "        <th id=\"T_2ab2a7fa_31f9_11e9_b691_409f380b6344level0_row4\" class=\"row_heading level0 row4\" >4</th> \n",
       "        <td id=\"T_2ab2a7fa_31f9_11e9_b691_409f380b6344row4_col0\" class=\"data row4 col0\" >Present residence since</td> \n",
       "        <td id=\"T_2ab2a7fa_31f9_11e9_b691_409f380b6344row4_col1\" class=\"data row4 col1\" >1</td> \n",
       "        <td id=\"T_2ab2a7fa_31f9_11e9_b691_409f380b6344row4_col2\" class=\"data row4 col2\" >2</td> \n",
       "        <td id=\"T_2ab2a7fa_31f9_11e9_b691_409f380b6344row4_col3\" class=\"data row4 col3\" >3</td> \n",
       "        <td id=\"T_2ab2a7fa_31f9_11e9_b691_409f380b6344row4_col4\" class=\"data row4 col4\" >4</td> \n",
       "    </tr>    <tr> \n",
       "        <th id=\"T_2ab2a7fa_31f9_11e9_b691_409f380b6344level0_row5\" class=\"row_heading level0 row5\" >5</th> \n",
       "        <td id=\"T_2ab2a7fa_31f9_11e9_b691_409f380b6344row5_col0\" class=\"data row5 col0\" >Percentage</td> \n",
       "        <td id=\"T_2ab2a7fa_31f9_11e9_b691_409f380b6344row5_col1\" class=\"data row5 col1\" >13</td> \n",
       "        <td id=\"T_2ab2a7fa_31f9_11e9_b691_409f380b6344row5_col2\" class=\"data row5 col2\" >30.8</td> \n",
       "        <td id=\"T_2ab2a7fa_31f9_11e9_b691_409f380b6344row5_col3\" class=\"data row5 col3\" >14.9</td> \n",
       "        <td id=\"T_2ab2a7fa_31f9_11e9_b691_409f380b6344row5_col4\" class=\"data row5 col4\" >41.3</td> \n",
       "    </tr>    <tr> \n",
       "        <th id=\"T_2ab2a7fa_31f9_11e9_b691_409f380b6344level0_row6\" class=\"row_heading level0 row6\" >6</th> \n",
       "        <td id=\"T_2ab2a7fa_31f9_11e9_b691_409f380b6344row6_col0\" class=\"data row6 col0\" >Property</td> \n",
       "        <td id=\"T_2ab2a7fa_31f9_11e9_b691_409f380b6344row6_col1\" class=\"data row6 col1\" >car or other</td> \n",
       "        <td id=\"T_2ab2a7fa_31f9_11e9_b691_409f380b6344row6_col2\" class=\"data row6 col2\" >real estate</td> \n",
       "        <td id=\"T_2ab2a7fa_31f9_11e9_b691_409f380b6344row6_col3\" class=\"data row6 col3\" >savings agreement/life insurance</td> \n",
       "        <td id=\"T_2ab2a7fa_31f9_11e9_b691_409f380b6344row6_col4\" class=\"data row6 col4\" >unknown / no property</td> \n",
       "    </tr>    <tr> \n",
       "        <th id=\"T_2ab2a7fa_31f9_11e9_b691_409f380b6344level0_row7\" class=\"row_heading level0 row7\" >7</th> \n",
       "        <td id=\"T_2ab2a7fa_31f9_11e9_b691_409f380b6344row7_col0\" class=\"data row7 col0\" >Percentage</td> \n",
       "        <td id=\"T_2ab2a7fa_31f9_11e9_b691_409f380b6344row7_col1\" class=\"data row7 col1\" >33.2</td> \n",
       "        <td id=\"T_2ab2a7fa_31f9_11e9_b691_409f380b6344row7_col2\" class=\"data row7 col2\" >28.2</td> \n",
       "        <td id=\"T_2ab2a7fa_31f9_11e9_b691_409f380b6344row7_col3\" class=\"data row7 col3\" >23.2</td> \n",
       "        <td id=\"T_2ab2a7fa_31f9_11e9_b691_409f380b6344row7_col4\" class=\"data row7 col4\" >15.4</td> \n",
       "    </tr>    <tr> \n",
       "        <th id=\"T_2ab2a7fa_31f9_11e9_b691_409f380b6344level0_row8\" class=\"row_heading level0 row8\" >8</th> \n",
       "        <td id=\"T_2ab2a7fa_31f9_11e9_b691_409f380b6344row8_col0\" class=\"data row8 col0\" >Purpose</td> \n",
       "        <td id=\"T_2ab2a7fa_31f9_11e9_b691_409f380b6344row8_col1\" class=\"data row8 col1\" >Home Related</td> \n",
       "        <td id=\"T_2ab2a7fa_31f9_11e9_b691_409f380b6344row8_col2\" class=\"data row8 col2\" >car (new)</td> \n",
       "        <td id=\"T_2ab2a7fa_31f9_11e9_b691_409f380b6344row8_col3\" class=\"data row8 col3\" >car (used)</td> \n",
       "        <td id=\"T_2ab2a7fa_31f9_11e9_b691_409f380b6344row8_col4\" class=\"data row8 col4\" >others</td> \n",
       "    </tr>    <tr> \n",
       "        <th id=\"T_2ab2a7fa_31f9_11e9_b691_409f380b6344level0_row9\" class=\"row_heading level0 row9\" >9</th> \n",
       "        <td id=\"T_2ab2a7fa_31f9_11e9_b691_409f380b6344row9_col0\" class=\"data row9 col0\" >Percentage</td> \n",
       "        <td id=\"T_2ab2a7fa_31f9_11e9_b691_409f380b6344row9_col1\" class=\"data row9 col1\" >49.5</td> \n",
       "        <td id=\"T_2ab2a7fa_31f9_11e9_b691_409f380b6344row9_col2\" class=\"data row9 col2\" >23.4</td> \n",
       "        <td id=\"T_2ab2a7fa_31f9_11e9_b691_409f380b6344row9_col3\" class=\"data row9 col3\" >10.3</td> \n",
       "        <td id=\"T_2ab2a7fa_31f9_11e9_b691_409f380b6344row9_col4\" class=\"data row9 col4\" >16.8</td> \n",
       "    </tr>    <tr> \n",
       "        <th id=\"T_2ab2a7fa_31f9_11e9_b691_409f380b6344level0_row10\" class=\"row_heading level0 row10\" >10</th> \n",
       "        <td id=\"T_2ab2a7fa_31f9_11e9_b691_409f380b6344row10_col0\" class=\"data row10 col0\" >Savings account/bonds</td> \n",
       "        <td id=\"T_2ab2a7fa_31f9_11e9_b691_409f380b6344row10_col1\" class=\"data row10 col1\" ><100 DM</td> \n",
       "        <td id=\"T_2ab2a7fa_31f9_11e9_b691_409f380b6344row10_col2\" class=\"data row10 col2\" ><500 DM</td> \n",
       "        <td id=\"T_2ab2a7fa_31f9_11e9_b691_409f380b6344row10_col3\" class=\"data row10 col3\" >>500 DM</td> \n",
       "        <td id=\"T_2ab2a7fa_31f9_11e9_b691_409f380b6344row10_col4\" class=\"data row10 col4\" >no savings account</td> \n",
       "    </tr>    <tr> \n",
       "        <th id=\"T_2ab2a7fa_31f9_11e9_b691_409f380b6344level0_row11\" class=\"row_heading level0 row11\" >11</th> \n",
       "        <td id=\"T_2ab2a7fa_31f9_11e9_b691_409f380b6344row11_col0\" class=\"data row11 col0\" >Percentage</td> \n",
       "        <td id=\"T_2ab2a7fa_31f9_11e9_b691_409f380b6344row11_col1\" class=\"data row11 col1\" >60.3</td> \n",
       "        <td id=\"T_2ab2a7fa_31f9_11e9_b691_409f380b6344row11_col2\" class=\"data row11 col2\" >10.3</td> \n",
       "        <td id=\"T_2ab2a7fa_31f9_11e9_b691_409f380b6344row11_col3\" class=\"data row11 col3\" >11.1</td> \n",
       "        <td id=\"T_2ab2a7fa_31f9_11e9_b691_409f380b6344row11_col4\" class=\"data row11 col4\" >18.3</td> \n",
       "    </tr></tbody> \n",
       "</table> "
      ],
      "text/plain": [
       "<pandas.io.formats.style.Styler at 0x26a71e43b70>"
      ]
     },
     "metadata": {},
     "output_type": "display_data"
    }
   ],
   "source": [
    "column_names=df.columns.tolist()\n",
    "column_names.remove(\"Credit amount\") #numerical variable\n",
    "column_names.remove(\"Age in years\") #numerical variable\n",
    "column_names.remove(\"Duration in month\") #numerical variable\n",
    "#----------------------------------------------------------------------------------------\n",
    "\n",
    "column_names_cat={}\n",
    "for name in column_names:\n",
    "    column_names_cat[name]=len(df[name].unique().tolist())\n",
    "\n",
    "    marginal_report_cluster={}\n",
    "for itr in range(0,np.asarray(list(column_names_cat.values())).max()+1):\n",
    "    if [k for k,v in column_names_cat.items() if v == itr]:\n",
    "        marginal_report_cluster[itr]=[k for k,v in column_names_cat.items() if v == itr]\n",
    "\n",
    "#----------------------------------------------------------------------------------------\n",
    "for key in marginal_report_cluster.keys():\n",
    "    marginal_percentage_report=[]\n",
    "    for name in sorted(marginal_report_cluster[key]):\n",
    "        data=pd.crosstab(df[name],columns=[\"Percentage\"]).apply(lambda r: (round((r/r.sum())*100,2)), axis=0).reset_index()\n",
    "        data.columns=[name,\"Percentage\"]\n",
    "        data=data.transpose().reset_index()\n",
    "        [marginal_percentage_report.append(x) for x in data.values.tolist()]\n",
    "        options=[]\n",
    "    marginal_percentage_report=pd.DataFrame(marginal_percentage_report)\n",
    "    [options.append(\"Category Option \"+str(itr)) for itr in range(1,len(marginal_percentage_report.columns))]\n",
    "    marginal_percentage_report.columns=[\"Attribute\"]+options\n",
    "    display(marginal_percentage_report.style.apply(style_specific_cell, axis=None))\n",
    "    "
   ]
  },
  {
   "cell_type": "code",
   "execution_count": 10,
   "metadata": {},
   "outputs": [
    {
     "data": {
      "text/html": [
       "<div>\n",
       "<style scoped>\n",
       "    .dataframe tbody tr th:only-of-type {\n",
       "        vertical-align: middle;\n",
       "    }\n",
       "\n",
       "    .dataframe tbody tr th {\n",
       "        vertical-align: top;\n",
       "    }\n",
       "\n",
       "    .dataframe thead th {\n",
       "        text-align: right;\n",
       "    }\n",
       "</style>\n",
       "<table border=\"1\" class=\"dataframe\">\n",
       "  <thead>\n",
       "    <tr style=\"text-align: right;\">\n",
       "      <th></th>\n",
       "      <th>Credit amount</th>\n",
       "      <th>Age in years</th>\n",
       "      <th>Duration in month</th>\n",
       "    </tr>\n",
       "  </thead>\n",
       "  <tbody>\n",
       "    <tr>\n",
       "      <th>count</th>\n",
       "      <td>1000.000000</td>\n",
       "      <td>1000.000000</td>\n",
       "      <td>1000.000000</td>\n",
       "    </tr>\n",
       "    <tr>\n",
       "      <th>mean</th>\n",
       "      <td>3271.258000</td>\n",
       "      <td>35.546000</td>\n",
       "      <td>20.903000</td>\n",
       "    </tr>\n",
       "    <tr>\n",
       "      <th>std</th>\n",
       "      <td>2822.736876</td>\n",
       "      <td>11.375469</td>\n",
       "      <td>12.058814</td>\n",
       "    </tr>\n",
       "    <tr>\n",
       "      <th>min</th>\n",
       "      <td>250.000000</td>\n",
       "      <td>19.000000</td>\n",
       "      <td>4.000000</td>\n",
       "    </tr>\n",
       "    <tr>\n",
       "      <th>25%</th>\n",
       "      <td>1365.500000</td>\n",
       "      <td>27.000000</td>\n",
       "      <td>12.000000</td>\n",
       "    </tr>\n",
       "    <tr>\n",
       "      <th>50%</th>\n",
       "      <td>2319.500000</td>\n",
       "      <td>33.000000</td>\n",
       "      <td>18.000000</td>\n",
       "    </tr>\n",
       "    <tr>\n",
       "      <th>75%</th>\n",
       "      <td>3972.250000</td>\n",
       "      <td>42.000000</td>\n",
       "      <td>24.000000</td>\n",
       "    </tr>\n",
       "    <tr>\n",
       "      <th>max</th>\n",
       "      <td>18424.000000</td>\n",
       "      <td>75.000000</td>\n",
       "      <td>72.000000</td>\n",
       "    </tr>\n",
       "  </tbody>\n",
       "</table>\n",
       "</div>"
      ],
      "text/plain": [
       "       Credit amount  Age in years  Duration in month\n",
       "count    1000.000000   1000.000000        1000.000000\n",
       "mean     3271.258000     35.546000          20.903000\n",
       "std      2822.736876     11.375469          12.058814\n",
       "min       250.000000     19.000000           4.000000\n",
       "25%      1365.500000     27.000000          12.000000\n",
       "50%      2319.500000     33.000000          18.000000\n",
       "75%      3972.250000     42.000000          24.000000\n",
       "max     18424.000000     75.000000          72.000000"
      ]
     },
     "execution_count": 10,
     "metadata": {},
     "output_type": "execute_result"
    }
   ],
   "source": [
    "df[[\"Credit amount\",\"Age in years\",\"Duration in month\"]].describe()"
   ]
  },
  {
   "cell_type": "code",
   "execution_count": 11,
   "metadata": {},
   "outputs": [],
   "source": [
    "# visualization of the data\n",
    "# Exploratory Data Analysis (EDA)\n",
    "def visualize_distribution(attr):\n",
    "    good_risk_df = df[df[\"Cost Matrix(Risk)\"]==\"Good Risk\"]\n",
    "    bad_risk_df = df[df[\"Cost Matrix(Risk)\"]==\"Bad Risk\"]\n",
    "    fig, ax = plt.subplots(nrows=1, ncols=2, figsize=(15,5))\n",
    "    attr_good_risk_df = good_risk_df[[attr, 'Cost Matrix(Risk)']].groupby(attr).count()\n",
    "    attr_bad_risk_df = bad_risk_df[[attr, 'Cost Matrix(Risk)']].groupby(attr).count()\n",
    "    ax[0].barh( attr_good_risk_df['Cost Matrix(Risk)'].index.tolist(), attr_good_risk_df['Cost Matrix(Risk)'].tolist(), align='center', color=\"#5975A4\")\n",
    "    ax[1].barh( attr_bad_risk_df['Cost Matrix(Risk)'].index.tolist(), attr_bad_risk_df['Cost Matrix(Risk)'].tolist(), align='center', color=\"#B55D60\")\n",
    "    ax[0].set_title('Good Risk')\n",
    "    ax[1].set_title('Bad Risk')\n",
    "    ax[0].invert_xaxis()\n",
    "    ax[1].yaxis.tick_right()\n",
    "    \n",
    "    num_para_change=[\"Present residence since\",\"Number of existing credits at this bank\",\"Installment rate in percentage of disposable income\",\"Number of people being liable to provide maintenance for\"]\n",
    "    if attr in num_para_change:\n",
    "        for i, v in enumerate(attr_good_risk_df['Cost Matrix(Risk)'].tolist()):\n",
    "            ax[0].text(v+15, i+1, str(v), color='black')\n",
    "        for i, v in enumerate(attr_bad_risk_df['Cost Matrix(Risk)'].tolist()):\n",
    "            ax[1].text(v+2, i+1, str(v), color='black')\n",
    "    else:\n",
    "        for i, v in enumerate(attr_good_risk_df['Cost Matrix(Risk)'].tolist()):\n",
    "            ax[0].text(v+25, i + .05, str(v), color='black')\n",
    "        for i, v in enumerate(attr_bad_risk_df['Cost Matrix(Risk)'].tolist()):\n",
    "            ax[1].text(v+1, i + .05, str(v), color='black')\n",
    "    plt.suptitle(attr)\n",
    "    plt.tight_layout()\n",
    "    plt.show()"
   ]
  },
  {
   "cell_type": "code",
   "execution_count": 12,
   "metadata": {},
   "outputs": [
    {
     "data": {
      "image/png": "[encoded data removed]",
      "text/plain": [
       "<Figure size 1080x360 with 2 Axes>"
      ]
     },
     "metadata": {
      "needs_background": "light"
     },
     "output_type": "display_data"
    }
   ],
   "source": [
    "visualize_distribution(\"Status of existing checking account\")"
   ]
  },
  {
   "cell_type": "code",
   "execution_count": 13,
   "metadata": {},
   "outputs": [
    {
     "data": {
      "image/png": "[encoded data removed]",
      "text/plain": [
       "<Figure size 1080x360 with 2 Axes>"
      ]
     },
     "metadata": {
      "needs_background": "light"
     },
     "output_type": "display_data"
    }
   ],
   "source": [
    "visualize_distribution(\"Credit history\")"
   ]
  },
  {
   "cell_type": "code",
   "execution_count": 14,
   "metadata": {},
   "outputs": [
    {
     "data": {
      "image/png": "[encoded data removed]",
      "text/plain": [
       "<Figure size 1080x360 with 2 Axes>"
      ]
     },
     "metadata": {
      "needs_background": "light"
     },
     "output_type": "display_data"
    }
   ],
   "source": [
    "visualize_distribution(\"Purpose\")"
   ]
  },
  {
   "cell_type": "code",
   "execution_count": 15,
   "metadata": {},
   "outputs": [
    {
     "data": {
      "image/png": "[encoded data removed]",
      "text/plain": [
       "<Figure size 1080x360 with 2 Axes>"
      ]
     },
     "metadata": {
      "needs_background": "light"
     },
     "output_type": "display_data"
    }
   ],
   "source": [
    "visualize_distribution(\"Savings account/bonds\")"
   ]
  },
  {
   "cell_type": "code",
   "execution_count": 16,
   "metadata": {},
   "outputs": [
    {
     "data": {
      "image/png": "[encoded data removed]",
      "text/plain": [
       "<Figure size 1080x360 with 2 Axes>"
      ]
     },
     "metadata": {
      "needs_background": "light"
     },
     "output_type": "display_data"
    }
   ],
   "source": [
    "visualize_distribution(\"Present employment since\")"
   ]
  },
  {
   "cell_type": "code",
   "execution_count": 17,
   "metadata": {},
   "outputs": [
    {
     "data": {
      "image/png": "[encoded data removed]",
      "text/plain": [
       "<Figure size 1080x360 with 2 Axes>"
      ]
     },
     "metadata": {
      "needs_background": "light"
     },
     "output_type": "display_data"
    }
   ],
   "source": [
    "visualize_distribution(\"Installment rate in percentage of disposable income\")"
   ]
  },
  {
   "cell_type": "code",
   "execution_count": 18,
   "metadata": {},
   "outputs": [
    {
     "data": {
      "image/png": "[encoded data removed]",
      "text/plain": [
       "<Figure size 1080x360 with 2 Axes>"
      ]
     },
     "metadata": {
      "needs_background": "light"
     },
     "output_type": "display_data"
    }
   ],
   "source": [
    "visualize_distribution(\"Personal status and sex\")"
   ]
  },
  {
   "cell_type": "code",
   "execution_count": 19,
   "metadata": {},
   "outputs": [
    {
     "data": {
      "image/png": "[encoded data removed]",
      "text/plain": [
       "<Figure size 1080x360 with 2 Axes>"
      ]
     },
     "metadata": {
      "needs_background": "light"
     },
     "output_type": "display_data"
    }
   ],
   "source": [
    "visualize_distribution(\"Other debtors / guarantors\")"
   ]
  },
  {
   "cell_type": "code",
   "execution_count": 20,
   "metadata": {},
   "outputs": [
    {
     "data": {
      "image/png": "[encoded data removed]",
      "text/plain": [
       "<Figure size 1080x360 with 2 Axes>"
      ]
     },
     "metadata": {
      "needs_background": "light"
     },
     "output_type": "display_data"
    }
   ],
   "source": [
    "visualize_distribution(\"Present residence since\")"
   ]
  },
  {
   "cell_type": "code",
   "execution_count": 21,
   "metadata": {},
   "outputs": [
    {
     "data": {
      "image/png": "[encoded data removed]",
      "text/plain": [
       "<Figure size 1080x360 with 2 Axes>"
      ]
     },
     "metadata": {
      "needs_background": "light"
     },
     "output_type": "display_data"
    }
   ],
   "source": [
    "visualize_distribution(\"Property\")"
   ]
  },
  {
   "cell_type": "code",
   "execution_count": 22,
   "metadata": {},
   "outputs": [
    {
     "data": {
      "image/png": "[encoded data removed]",
      "text/plain": [
       "<Figure size 1080x360 with 2 Axes>"
      ]
     },
     "metadata": {
      "needs_background": "light"
     },
     "output_type": "display_data"
    }
   ],
   "source": [
    "visualize_distribution(\"Other installment plans\")"
   ]
  },
  {
   "cell_type": "code",
   "execution_count": 23,
   "metadata": {},
   "outputs": [
    {
     "data": {
      "image/png": "[encoded data removed]",
      "text/plain": [
       "<Figure size 1080x360 with 2 Axes>"
      ]
     },
     "metadata": {
      "needs_background": "light"
     },
     "output_type": "display_data"
    }
   ],
   "source": [
    "visualize_distribution(\"Housing\")"
   ]
  },
  {
   "cell_type": "code",
   "execution_count": 24,
   "metadata": {},
   "outputs": [
    {
     "data": {
      "image/png": "[encoded data removed]",
      "text/plain": [
       "<Figure size 1080x360 with 2 Axes>"
      ]
     },
     "metadata": {
      "needs_background": "light"
     },
     "output_type": "display_data"
    }
   ],
   "source": [
    "visualize_distribution(\"Number of existing credits at this bank\")"
   ]
  },
  {
   "cell_type": "code",
   "execution_count": 25,
   "metadata": {},
   "outputs": [
    {
     "data": {
      "image/png": "[encoded data removed]",
      "text/plain": [
       "<Figure size 1080x360 with 2 Axes>"
      ]
     },
     "metadata": {
      "needs_background": "light"
     },
     "output_type": "display_data"
    }
   ],
   "source": [
    "visualize_distribution(\"Number of people being liable to provide maintenance for\")"
   ]
  },
  {
   "cell_type": "code",
   "execution_count": 26,
   "metadata": {},
   "outputs": [
    {
     "data": {
      "image/png": "[encoded data removed]",
      "text/plain": [
       "<Figure size 1080x360 with 2 Axes>"
      ]
     },
     "metadata": {
      "needs_background": "light"
     },
     "output_type": "display_data"
    }
   ],
   "source": [
    "visualize_distribution(\"foreign worker\")"
   ]
  },
  {
   "cell_type": "code",
   "execution_count": 27,
   "metadata": {},
   "outputs": [
    {
     "data": {
      "image/png": "[encoded data removed]",
      "text/plain": [
       "<Figure size 1080x360 with 2 Axes>"
      ]
     },
     "metadata": {
      "needs_background": "light"
     },
     "output_type": "display_data"
    }
   ],
   "source": [
    "df[\"Duration in year\"]=df[\"Duration in month\"].apply(lambda x: (floor(x/12)))\n",
    "visualize_distribution(\"Duration in year\")"
   ]
  },
  {
   "cell_type": "code",
   "execution_count": 28,
   "metadata": {},
   "outputs": [
    {
     "data": {
      "image/png": "[encoded data removed]",
      "text/plain": [
       "<Figure size 1080x360 with 2 Axes>"
      ]
     },
     "metadata": {
      "needs_background": "light"
     },
     "output_type": "display_data"
    }
   ],
   "source": [
    "age_interval = [18, 24, 35, 55, 120]\n",
    "age_category = ['Student', 'Young-Adult', 'Middle-Aged Adult', 'Senior']\n",
    "df[\"Age_Category\"] = pd.cut(df[\"Age in years\"], age_interval, labels=age_category)\n",
    "visualize_distribution(\"Age_Category\")"
   ]
  },
  {
   "cell_type": "code",
   "execution_count": 29,
   "metadata": {},
   "outputs": [
    {
     "data": {
      "image/png": "[encoded data removed]",
      "text/plain": [
       "<Figure size 1080x360 with 3 Axes>"
      ]
     },
     "metadata": {},
     "output_type": "display_data"
    }
   ],
   "source": [
    "#checking of box plot \n",
    "sns.set()\n",
    "f, axes = plt.subplots(1, 3,figsize=(15,5))\n",
    "sns.boxplot(y=df[\"Credit amount\"],x=df[\"Cost Matrix(Risk)\"],orient='v' , ax=axes[0],palette=[\"#5975A4\",\"#B55D60\"]) #box plot\n",
    "sns.boxplot(y=df[\"Duration in month\"],x=df[\"Cost Matrix(Risk)\"], orient='v' , ax=axes[1],palette=[\"#5975A4\",\"#B55D60\"]) #box plot\n",
    "sns.boxplot(y=df[\"Age in years\"],x=df[\"Cost Matrix(Risk)\"], orient='v' , ax=axes[2],palette=[\"#5975A4\",\"#B55D60\"]) #box plot\n",
    "plt.show()"
   ]
  },
  {
   "cell_type": "code",
   "execution_count": 30,
   "metadata": {},
   "outputs": [
    {
     "data": {
      "text/html": [
       "<style  type=\"text/css\" >\n",
       "    #T_2ee5d5f6_31f9_11e9_a35f_409f380b6344row5_col1 {\n",
       "            background-color:  lightpink;\n",
       "        }    #T_2ee5d5f6_31f9_11e9_a35f_409f380b6344row7_col1 {\n",
       "            background-color:  lightpink;\n",
       "        }    #T_2ee5d5f6_31f9_11e9_a35f_409f380b6344row8_col1 {\n",
       "            background-color:  lightpink;\n",
       "        }    #T_2ee5d5f6_31f9_11e9_a35f_409f380b6344row12_col1 {\n",
       "            background-color:  lightpink;\n",
       "        }    #T_2ee5d5f6_31f9_11e9_a35f_409f380b6344row13_col1 {\n",
       "            background-color:  lightpink;\n",
       "        }    #T_2ee5d5f6_31f9_11e9_a35f_409f380b6344row14_col1 {\n",
       "            background-color:  lightpink;\n",
       "        }    #T_2ee5d5f6_31f9_11e9_a35f_409f380b6344row15_col1 {\n",
       "            background-color:  lightpink;\n",
       "        }</style>  \n",
       "<table id=\"T_2ee5d5f6_31f9_11e9_a35f_409f380b6344\" > \n",
       "<thead>    <tr> \n",
       "        <th class=\"blank level0\" ></th> \n",
       "        <th class=\"col_heading level0 col0\" >Attribute</th> \n",
       "        <th class=\"col_heading level0 col1\" >P-value</th> \n",
       "    </tr></thead> \n",
       "<tbody>    <tr> \n",
       "        <th id=\"T_2ee5d5f6_31f9_11e9_a35f_409f380b6344level0_row0\" class=\"row_heading level0 row0\" >0</th> \n",
       "        <td id=\"T_2ee5d5f6_31f9_11e9_a35f_409f380b6344row0_col0\" class=\"data row0 col0\" >Status of existing checking account</td> \n",
       "        <td id=\"T_2ee5d5f6_31f9_11e9_a35f_409f380b6344row0_col1\" class=\"data row0 col1\" >0</td> \n",
       "    </tr>    <tr> \n",
       "        <th id=\"T_2ee5d5f6_31f9_11e9_a35f_409f380b6344level0_row1\" class=\"row_heading level0 row1\" >1</th> \n",
       "        <td id=\"T_2ee5d5f6_31f9_11e9_a35f_409f380b6344row1_col0\" class=\"data row1 col0\" >Credit history</td> \n",
       "        <td id=\"T_2ee5d5f6_31f9_11e9_a35f_409f380b6344row1_col1\" class=\"data row1 col1\" >0</td> \n",
       "    </tr>    <tr> \n",
       "        <th id=\"T_2ee5d5f6_31f9_11e9_a35f_409f380b6344level0_row2\" class=\"row_heading level0 row2\" >2</th> \n",
       "        <td id=\"T_2ee5d5f6_31f9_11e9_a35f_409f380b6344row2_col0\" class=\"data row2 col0\" >Purpose</td> \n",
       "        <td id=\"T_2ee5d5f6_31f9_11e9_a35f_409f380b6344row2_col1\" class=\"data row2 col1\" >5e-05</td> \n",
       "    </tr>    <tr> \n",
       "        <th id=\"T_2ee5d5f6_31f9_11e9_a35f_409f380b6344level0_row3\" class=\"row_heading level0 row3\" >3</th> \n",
       "        <td id=\"T_2ee5d5f6_31f9_11e9_a35f_409f380b6344row3_col0\" class=\"data row3 col0\" >Savings account/bonds</td> \n",
       "        <td id=\"T_2ee5d5f6_31f9_11e9_a35f_409f380b6344row3_col1\" class=\"data row3 col1\" >0</td> \n",
       "    </tr>    <tr> \n",
       "        <th id=\"T_2ee5d5f6_31f9_11e9_a35f_409f380b6344level0_row4\" class=\"row_heading level0 row4\" >4</th> \n",
       "        <td id=\"T_2ee5d5f6_31f9_11e9_a35f_409f380b6344row4_col0\" class=\"data row4 col0\" >Present employment since</td> \n",
       "        <td id=\"T_2ee5d5f6_31f9_11e9_a35f_409f380b6344row4_col1\" class=\"data row4 col1\" >0.000422</td> \n",
       "    </tr>    <tr> \n",
       "        <th id=\"T_2ee5d5f6_31f9_11e9_a35f_409f380b6344level0_row5\" class=\"row_heading level0 row5\" >5</th> \n",
       "        <td id=\"T_2ee5d5f6_31f9_11e9_a35f_409f380b6344row5_col0\" class=\"data row5 col0\" >Installment rate in percentage of disposable income</td> \n",
       "        <td id=\"T_2ee5d5f6_31f9_11e9_a35f_409f380b6344row5_col1\" class=\"data row5 col1\" >0.140033</td> \n",
       "    </tr>    <tr> \n",
       "        <th id=\"T_2ee5d5f6_31f9_11e9_a35f_409f380b6344level0_row6\" class=\"row_heading level0 row6\" >6</th> \n",
       "        <td id=\"T_2ee5d5f6_31f9_11e9_a35f_409f380b6344row6_col0\" class=\"data row6 col0\" >Personal status and sex</td> \n",
       "        <td id=\"T_2ee5d5f6_31f9_11e9_a35f_409f380b6344row6_col1\" class=\"data row6 col1\" >0.02074</td> \n",
       "    </tr>    <tr> \n",
       "        <th id=\"T_2ee5d5f6_31f9_11e9_a35f_409f380b6344level0_row7\" class=\"row_heading level0 row7\" >7</th> \n",
       "        <td id=\"T_2ee5d5f6_31f9_11e9_a35f_409f380b6344row7_col0\" class=\"data row7 col0\" >Other debtors / guarantors</td> \n",
       "        <td id=\"T_2ee5d5f6_31f9_11e9_a35f_409f380b6344row7_col1\" class=\"data row7 col1\" >0.924283</td> \n",
       "    </tr>    <tr> \n",
       "        <th id=\"T_2ee5d5f6_31f9_11e9_a35f_409f380b6344level0_row8\" class=\"row_heading level0 row8\" >8</th> \n",
       "        <td id=\"T_2ee5d5f6_31f9_11e9_a35f_409f380b6344row8_col0\" class=\"data row8 col0\" >Present residence since</td> \n",
       "        <td id=\"T_2ee5d5f6_31f9_11e9_a35f_409f380b6344row8_col1\" class=\"data row8 col1\" >0.861552</td> \n",
       "    </tr>    <tr> \n",
       "        <th id=\"T_2ee5d5f6_31f9_11e9_a35f_409f380b6344level0_row9\" class=\"row_heading level0 row9\" >9</th> \n",
       "        <td id=\"T_2ee5d5f6_31f9_11e9_a35f_409f380b6344row9_col0\" class=\"data row9 col0\" >Property</td> \n",
       "        <td id=\"T_2ee5d5f6_31f9_11e9_a35f_409f380b6344row9_col1\" class=\"data row9 col1\" >2.9e-05</td> \n",
       "    </tr>    <tr> \n",
       "        <th id=\"T_2ee5d5f6_31f9_11e9_a35f_409f380b6344level0_row10\" class=\"row_heading level0 row10\" >10</th> \n",
       "        <td id=\"T_2ee5d5f6_31f9_11e9_a35f_409f380b6344row10_col0\" class=\"data row10 col0\" >Other installment plans</td> \n",
       "        <td id=\"T_2ee5d5f6_31f9_11e9_a35f_409f380b6344row10_col1\" class=\"data row10 col1\" >0.000476</td> \n",
       "    </tr>    <tr> \n",
       "        <th id=\"T_2ee5d5f6_31f9_11e9_a35f_409f380b6344level0_row11\" class=\"row_heading level0 row11\" >11</th> \n",
       "        <td id=\"T_2ee5d5f6_31f9_11e9_a35f_409f380b6344row11_col0\" class=\"data row11 col0\" >Housing</td> \n",
       "        <td id=\"T_2ee5d5f6_31f9_11e9_a35f_409f380b6344row11_col1\" class=\"data row11 col1\" >0.000112</td> \n",
       "    </tr>    <tr> \n",
       "        <th id=\"T_2ee5d5f6_31f9_11e9_a35f_409f380b6344level0_row12\" class=\"row_heading level0 row12\" >12</th> \n",
       "        <td id=\"T_2ee5d5f6_31f9_11e9_a35f_409f380b6344row12_col0\" class=\"data row12 col0\" >Number of existing credits at this bank</td> \n",
       "        <td id=\"T_2ee5d5f6_31f9_11e9_a35f_409f380b6344row12_col1\" class=\"data row12 col1\" >0.169304</td> \n",
       "    </tr>    <tr> \n",
       "        <th id=\"T_2ee5d5f6_31f9_11e9_a35f_409f380b6344level0_row13\" class=\"row_heading level0 row13\" >13</th> \n",
       "        <td id=\"T_2ee5d5f6_31f9_11e9_a35f_409f380b6344row13_col0\" class=\"data row13 col0\" >Job</td> \n",
       "        <td id=\"T_2ee5d5f6_31f9_11e9_a35f_409f380b6344row13_col1\" class=\"data row13 col1\" >0.606737</td> \n",
       "    </tr>    <tr> \n",
       "        <th id=\"T_2ee5d5f6_31f9_11e9_a35f_409f380b6344level0_row14\" class=\"row_heading level0 row14\" >14</th> \n",
       "        <td id=\"T_2ee5d5f6_31f9_11e9_a35f_409f380b6344row14_col0\" class=\"data row14 col0\" >Number of people being liable to provide maintenance for</td> \n",
       "        <td id=\"T_2ee5d5f6_31f9_11e9_a35f_409f380b6344row14_col1\" class=\"data row14 col1\" >1</td> \n",
       "    </tr>    <tr> \n",
       "        <th id=\"T_2ee5d5f6_31f9_11e9_a35f_409f380b6344level0_row15\" class=\"row_heading level0 row15\" >15</th> \n",
       "        <td id=\"T_2ee5d5f6_31f9_11e9_a35f_409f380b6344row15_col0\" class=\"data row15 col0\" >Telephone</td> \n",
       "        <td id=\"T_2ee5d5f6_31f9_11e9_a35f_409f380b6344row15_col1\" class=\"data row15 col1\" >0.278876</td> \n",
       "    </tr>    <tr> \n",
       "        <th id=\"T_2ee5d5f6_31f9_11e9_a35f_409f380b6344level0_row16\" class=\"row_heading level0 row16\" >16</th> \n",
       "        <td id=\"T_2ee5d5f6_31f9_11e9_a35f_409f380b6344row16_col0\" class=\"data row16 col0\" >foreign worker</td> \n",
       "        <td id=\"T_2ee5d5f6_31f9_11e9_a35f_409f380b6344row16_col1\" class=\"data row16 col1\" >0.015831</td> \n",
       "    </tr></tbody> \n",
       "</table> "
      ],
      "text/plain": [
       "<pandas.io.formats.style.Styler at 0x26a723a1ef0>"
      ]
     },
     "metadata": {},
     "output_type": "display_data"
    },
    {
     "data": {
      "text/html": [
       "<style  type=\"text/css\" >\n",
       "</style>  \n",
       "<table id=\"T_2ee9a912_31f9_11e9_baa3_409f380b6344\" > \n",
       "<thead>    <tr> \n",
       "        <th class=\"blank level0\" ></th> \n",
       "        <th class=\"col_heading level0 col0\" >Attribute</th> \n",
       "        <th class=\"col_heading level0 col1\" >P-value</th> \n",
       "    </tr></thead> \n",
       "<tbody>    <tr> \n",
       "        <th id=\"T_2ee9a912_31f9_11e9_baa3_409f380b6344level0_row0\" class=\"row_heading level0 row0\" >0</th> \n",
       "        <td id=\"T_2ee9a912_31f9_11e9_baa3_409f380b6344row0_col0\" class=\"data row0 col0\" >Credit amount</td> \n",
       "        <td id=\"T_2ee9a912_31f9_11e9_baa3_409f380b6344row0_col1\" class=\"data row0 col1\" >1e-06</td> \n",
       "    </tr>    <tr> \n",
       "        <th id=\"T_2ee9a912_31f9_11e9_baa3_409f380b6344level0_row1\" class=\"row_heading level0 row1\" >1</th> \n",
       "        <td id=\"T_2ee9a912_31f9_11e9_baa3_409f380b6344row1_col0\" class=\"data row1 col0\" >Age in years</td> \n",
       "        <td id=\"T_2ee9a912_31f9_11e9_baa3_409f380b6344row1_col1\" class=\"data row1 col1\" >0.003925</td> \n",
       "    </tr>    <tr> \n",
       "        <th id=\"T_2ee9a912_31f9_11e9_baa3_409f380b6344level0_row2\" class=\"row_heading level0 row2\" >2</th> \n",
       "        <td id=\"T_2ee9a912_31f9_11e9_baa3_409f380b6344row2_col0\" class=\"data row2 col0\" >Duration in month</td> \n",
       "        <td id=\"T_2ee9a912_31f9_11e9_baa3_409f380b6344row2_col1\" class=\"data row2 col1\" >0</td> \n",
       "    </tr></tbody> \n",
       "</table> "
      ],
      "text/plain": [
       "<pandas.io.formats.style.Styler at 0x26a723af160>"
      ]
     },
     "metadata": {},
     "output_type": "display_data"
    }
   ],
   "source": [
    "column_names_cat_stats=[\"Status of existing checking account\",\"Credit history\",\"Purpose\",\\\n",
    "\"Savings account/bonds\",\"Present employment since\",\\\n",
    "\"Installment rate in percentage of disposable income\",\"Personal status and sex\",\\\n",
    "\"Other debtors / guarantors\",\"Present residence since\",\"Property\",\\\n",
    "\"Other installment plans\",\"Housing\",\"Number of existing credits at this bank\",\\\n",
    "\"Job\",\"Number of people being liable to provide maintenance for\",\"Telephone\",\"foreign worker\"]\n",
    "\n",
    "statistical_significance=[]\n",
    "for attr in column_names_cat_stats:\n",
    "    data_count=pd.crosstab(df[attr],df[\"Cost Matrix(Risk)\"]).reset_index()\n",
    "    obs=np.asarray(data_count[[\"Bad Risk\",\"Good Risk\"]])\n",
    "    chi2, p, dof, expected = stats.chi2_contingency(obs)\n",
    "    statistical_significance.append([attr,round(p,6)])\n",
    "statistical_significance=pd.DataFrame(statistical_significance)\n",
    "statistical_significance.columns=[\"Attribute\",\"P-value\"]\n",
    "display(statistical_significance.style.apply(style_stats_specific_cell, axis=None))\n",
    "\n",
    "\n",
    "statistical_significance=[]\n",
    "column_names_cont_stats=[\"Credit amount\",\"Age in years\",\"Duration in month\"]\n",
    "good_risk_df = df[df[\"Cost Matrix(Risk)\"]==\"Good Risk\"]\n",
    "bad_risk_df = df[df[\"Cost Matrix(Risk)\"]==\"Bad Risk\"]\n",
    "for attr in column_names_cont_stats:\n",
    "    statistic, p=stats.f_oneway(good_risk_df[attr].values,bad_risk_df[attr].values)\n",
    "    statistical_significance.append([attr,round(p,6)])\n",
    "statistical_significance=pd.DataFrame(statistical_significance)\n",
    "statistical_significance.columns=[\"Attribute\",\"P-value\"]\n",
    "display(statistical_significance.style.apply(style_stats_specific_cell, axis=None))"
   ]
  },
  {
   "cell_type": "code",
   "execution_count": 31,
   "metadata": {},
   "outputs": [],
   "source": [
    "attr_significant=[\"Status of existing checking account\",\"Credit history\",\"Purpose\",\\\n",
    "\"Savings account/bonds\",\"Present employment since\",\\\n",
    "\"Personal status and sex\",\"Property\",\"Other installment plans\",\"Housing\",\"foreign worker\",\\\n",
    "\"Credit amount\",\"Age in years\",\"Duration in month\"]\n",
    "target_variable=[\"Cost Matrix(Risk)\"]\n",
    "df=df[attr_significant+target_variable]"
   ]
  },
  {
   "cell_type": "code",
   "execution_count": 32,
   "metadata": {},
   "outputs": [],
   "source": [
    "col_cat_names=[\"Status of existing checking account\",\"Credit history\",\"Purpose\",\\\n",
    "\"Savings account/bonds\",\"Present employment since\",\\\n",
    "\"Personal status and sex\",\"Property\",\"Other installment plans\",\"Housing\",\"foreign worker\"]\n",
    "for attr in col_cat_names:\n",
    "    df = df.merge(pd.get_dummies(df[attr], prefix=attr), left_index=True, right_index=True)\n",
    "    df.drop(attr,axis=1,inplace=True)\n",
    " \n",
    "#converting target variable into numeric\n",
    "risk={\"Good Risk\":1, \"Bad Risk\":0}\n",
    "df[\"Cost Matrix(Risk)\"]=df[\"Cost Matrix(Risk)\"].map(risk)"
   ]
  },
  {
   "cell_type": "code",
   "execution_count": 33,
   "metadata": {},
   "outputs": [
    {
     "data": {
      "text/html": [
       "<div>\n",
       "<style scoped>\n",
       "    .dataframe tbody tr th:only-of-type {\n",
       "        vertical-align: middle;\n",
       "    }\n",
       "\n",
       "    .dataframe tbody tr th {\n",
       "        vertical-align: top;\n",
       "    }\n",
       "\n",
       "    .dataframe thead th {\n",
       "        text-align: right;\n",
       "    }\n",
       "</style>\n",
       "<table border=\"1\" class=\"dataframe\">\n",
       "  <thead>\n",
       "    <tr style=\"text-align: right;\">\n",
       "      <th></th>\n",
       "      <th>Credit amount</th>\n",
       "      <th>Age in years</th>\n",
       "      <th>Duration in month</th>\n",
       "      <th>Cost Matrix(Risk)</th>\n",
       "      <th>Status of existing checking account_&lt;0 DM</th>\n",
       "      <th>Status of existing checking account_&gt;0 DM</th>\n",
       "      <th>Status of existing checking account_no checking account</th>\n",
       "      <th>Credit history_all credit / existing credits paid back duly till now</th>\n",
       "      <th>Credit history_critical account/delay in paying off</th>\n",
       "      <th>Credit history_no credits taken</th>\n",
       "      <th>Purpose_Home Related</th>\n",
       "      <th>Purpose_car (new)</th>\n",
       "      <th>Purpose_car (used)</th>\n",
       "      <th>Purpose_others</th>\n",
       "      <th>Savings account/bonds_&lt;100 DM</th>\n",
       "      <th>Savings account/bonds_&lt;500 DM</th>\n",
       "      <th>Savings account/bonds_&gt;500 DM</th>\n",
       "      <th>Savings account/bonds_no savings account</th>\n",
       "      <th>Present employment since_1&lt;= &lt; 4 years</th>\n",
       "      <th>Present employment since_4&lt;= &lt;7 years</th>\n",
       "      <th>Present employment since_&lt;1 years</th>\n",
       "      <th>Present employment since_&gt;=7 years</th>\n",
       "      <th>Personal status and sex_female</th>\n",
       "      <th>Personal status and sex_male</th>\n",
       "      <th>Property_car or other</th>\n",
       "      <th>Property_real estate</th>\n",
       "      <th>Property_savings agreement/life insurance</th>\n",
       "      <th>Property_unknown / no property</th>\n",
       "      <th>Other installment plans_bank/store</th>\n",
       "      <th>Other installment plans_none</th>\n",
       "      <th>Housing_for free</th>\n",
       "      <th>Housing_own</th>\n",
       "      <th>Housing_rent</th>\n",
       "      <th>foreign worker_no</th>\n",
       "      <th>foreign worker_yes</th>\n",
       "    </tr>\n",
       "  </thead>\n",
       "  <tbody>\n",
       "    <tr>\n",
       "      <th>0</th>\n",
       "      <td>1169</td>\n",
       "      <td>67</td>\n",
       "      <td>6</td>\n",
       "      <td>1</td>\n",
       "      <td>1</td>\n",
       "      <td>0</td>\n",
       "      <td>0</td>\n",
       "      <td>0</td>\n",
       "      <td>1</td>\n",
       "      <td>0</td>\n",
       "      <td>1</td>\n",
       "      <td>0</td>\n",
       "      <td>0</td>\n",
       "      <td>0</td>\n",
       "      <td>0</td>\n",
       "      <td>0</td>\n",
       "      <td>0</td>\n",
       "      <td>1</td>\n",
       "      <td>0</td>\n",
       "      <td>0</td>\n",
       "      <td>0</td>\n",
       "      <td>1</td>\n",
       "      <td>0</td>\n",
       "      <td>1</td>\n",
       "      <td>0</td>\n",
       "      <td>1</td>\n",
       "      <td>0</td>\n",
       "      <td>0</td>\n",
       "      <td>0</td>\n",
       "      <td>1</td>\n",
       "      <td>0</td>\n",
       "      <td>1</td>\n",
       "      <td>0</td>\n",
       "      <td>0</td>\n",
       "      <td>1</td>\n",
       "    </tr>\n",
       "    <tr>\n",
       "      <th>1</th>\n",
       "      <td>5951</td>\n",
       "      <td>22</td>\n",
       "      <td>48</td>\n",
       "      <td>0</td>\n",
       "      <td>0</td>\n",
       "      <td>1</td>\n",
       "      <td>0</td>\n",
       "      <td>1</td>\n",
       "      <td>0</td>\n",
       "      <td>0</td>\n",
       "      <td>1</td>\n",
       "      <td>0</td>\n",
       "      <td>0</td>\n",
       "      <td>0</td>\n",
       "      <td>1</td>\n",
       "      <td>0</td>\n",
       "      <td>0</td>\n",
       "      <td>0</td>\n",
       "      <td>1</td>\n",
       "      <td>0</td>\n",
       "      <td>0</td>\n",
       "      <td>0</td>\n",
       "      <td>1</td>\n",
       "      <td>0</td>\n",
       "      <td>0</td>\n",
       "      <td>1</td>\n",
       "      <td>0</td>\n",
       "      <td>0</td>\n",
       "      <td>0</td>\n",
       "      <td>1</td>\n",
       "      <td>0</td>\n",
       "      <td>1</td>\n",
       "      <td>0</td>\n",
       "      <td>0</td>\n",
       "      <td>1</td>\n",
       "    </tr>\n",
       "    <tr>\n",
       "      <th>2</th>\n",
       "      <td>2096</td>\n",
       "      <td>49</td>\n",
       "      <td>12</td>\n",
       "      <td>1</td>\n",
       "      <td>0</td>\n",
       "      <td>0</td>\n",
       "      <td>1</td>\n",
       "      <td>0</td>\n",
       "      <td>1</td>\n",
       "      <td>0</td>\n",
       "      <td>0</td>\n",
       "      <td>0</td>\n",
       "      <td>0</td>\n",
       "      <td>1</td>\n",
       "      <td>1</td>\n",
       "      <td>0</td>\n",
       "      <td>0</td>\n",
       "      <td>0</td>\n",
       "      <td>0</td>\n",
       "      <td>1</td>\n",
       "      <td>0</td>\n",
       "      <td>0</td>\n",
       "      <td>0</td>\n",
       "      <td>1</td>\n",
       "      <td>0</td>\n",
       "      <td>1</td>\n",
       "      <td>0</td>\n",
       "      <td>0</td>\n",
       "      <td>0</td>\n",
       "      <td>1</td>\n",
       "      <td>0</td>\n",
       "      <td>1</td>\n",
       "      <td>0</td>\n",
       "      <td>0</td>\n",
       "      <td>1</td>\n",
       "    </tr>\n",
       "    <tr>\n",
       "      <th>3</th>\n",
       "      <td>7882</td>\n",
       "      <td>45</td>\n",
       "      <td>42</td>\n",
       "      <td>1</td>\n",
       "      <td>1</td>\n",
       "      <td>0</td>\n",
       "      <td>0</td>\n",
       "      <td>1</td>\n",
       "      <td>0</td>\n",
       "      <td>0</td>\n",
       "      <td>1</td>\n",
       "      <td>0</td>\n",
       "      <td>0</td>\n",
       "      <td>0</td>\n",
       "      <td>1</td>\n",
       "      <td>0</td>\n",
       "      <td>0</td>\n",
       "      <td>0</td>\n",
       "      <td>0</td>\n",
       "      <td>1</td>\n",
       "      <td>0</td>\n",
       "      <td>0</td>\n",
       "      <td>0</td>\n",
       "      <td>1</td>\n",
       "      <td>0</td>\n",
       "      <td>0</td>\n",
       "      <td>1</td>\n",
       "      <td>0</td>\n",
       "      <td>0</td>\n",
       "      <td>1</td>\n",
       "      <td>1</td>\n",
       "      <td>0</td>\n",
       "      <td>0</td>\n",
       "      <td>0</td>\n",
       "      <td>1</td>\n",
       "    </tr>\n",
       "    <tr>\n",
       "      <th>4</th>\n",
       "      <td>4870</td>\n",
       "      <td>53</td>\n",
       "      <td>24</td>\n",
       "      <td>0</td>\n",
       "      <td>1</td>\n",
       "      <td>0</td>\n",
       "      <td>0</td>\n",
       "      <td>0</td>\n",
       "      <td>1</td>\n",
       "      <td>0</td>\n",
       "      <td>0</td>\n",
       "      <td>1</td>\n",
       "      <td>0</td>\n",
       "      <td>0</td>\n",
       "      <td>1</td>\n",
       "      <td>0</td>\n",
       "      <td>0</td>\n",
       "      <td>0</td>\n",
       "      <td>1</td>\n",
       "      <td>0</td>\n",
       "      <td>0</td>\n",
       "      <td>0</td>\n",
       "      <td>0</td>\n",
       "      <td>1</td>\n",
       "      <td>0</td>\n",
       "      <td>0</td>\n",
       "      <td>0</td>\n",
       "      <td>1</td>\n",
       "      <td>0</td>\n",
       "      <td>1</td>\n",
       "      <td>1</td>\n",
       "      <td>0</td>\n",
       "      <td>0</td>\n",
       "      <td>0</td>\n",
       "      <td>1</td>\n",
       "    </tr>\n",
       "  </tbody>\n",
       "</table>\n",
       "</div>"
      ],
      "text/plain": [
       "   Credit amount  Age in years  Duration in month  Cost Matrix(Risk)  \\\n",
       "0           1169            67                  6                  1   \n",
       "1           5951            22                 48                  0   \n",
       "2           2096            49                 12                  1   \n",
       "3           7882            45                 42                  1   \n",
       "4           4870            53                 24                  0   \n",
       "\n",
       "   Status of existing checking account_<0 DM  \\\n",
       "0                                          1   \n",
       "1                                          0   \n",
       "2                                          0   \n",
       "3                                          1   \n",
       "4                                          1   \n",
       "\n",
       "   Status of existing checking account_>0 DM  \\\n",
       "0                                          0   \n",
       "1                                          1   \n",
       "2                                          0   \n",
       "3                                          0   \n",
       "4                                          0   \n",
       "\n",
       "   Status of existing checking account_no checking account  \\\n",
       "0                                                  0         \n",
       "1                                                  0         \n",
       "2                                                  1         \n",
       "3                                                  0         \n",
       "4                                                  0         \n",
       "\n",
       "   Credit history_all credit / existing credits paid back duly till now  \\\n",
       "0                                                  0                      \n",
       "1                                                  1                      \n",
       "2                                                  0                      \n",
       "3                                                  1                      \n",
       "4                                                  0                      \n",
       "\n",
       "   Credit history_critical account/delay in paying off  \\\n",
       "0                                                  1     \n",
       "1                                                  0     \n",
       "2                                                  1     \n",
       "3                                                  0     \n",
       "4                                                  1     \n",
       "\n",
       "   Credit history_no credits taken  Purpose_Home Related  Purpose_car (new)  \\\n",
       "0                                0                     1                  0   \n",
       "1                                0                     1                  0   \n",
       "2                                0                     0                  0   \n",
       "3                                0                     1                  0   \n",
       "4                                0                     0                  1   \n",
       "\n",
       "   Purpose_car (used)  Purpose_others  Savings account/bonds_<100 DM  \\\n",
       "0                   0               0                              0   \n",
       "1                   0               0                              1   \n",
       "2                   0               1                              1   \n",
       "3                   0               0                              1   \n",
       "4                   0               0                              1   \n",
       "\n",
       "   Savings account/bonds_<500 DM  Savings account/bonds_>500 DM  \\\n",
       "0                              0                              0   \n",
       "1                              0                              0   \n",
       "2                              0                              0   \n",
       "3                              0                              0   \n",
       "4                              0                              0   \n",
       "\n",
       "   Savings account/bonds_no savings account  \\\n",
       "0                                         1   \n",
       "1                                         0   \n",
       "2                                         0   \n",
       "3                                         0   \n",
       "4                                         0   \n",
       "\n",
       "   Present employment since_1<= < 4 years  \\\n",
       "0                                       0   \n",
       "1                                       1   \n",
       "2                                       0   \n",
       "3                                       0   \n",
       "4                                       1   \n",
       "\n",
       "   Present employment since_4<= <7 years  Present employment since_<1 years  \\\n",
       "0                                      0                                  0   \n",
       "1                                      0                                  0   \n",
       "2                                      1                                  0   \n",
       "3                                      1                                  0   \n",
       "4                                      0                                  0   \n",
       "\n",
       "   Present employment since_>=7 years  Personal status and sex_female  \\\n",
       "0                                   1                               0   \n",
       "1                                   0                               1   \n",
       "2                                   0                               0   \n",
       "3                                   0                               0   \n",
       "4                                   0                               0   \n",
       "\n",
       "   Personal status and sex_male  Property_car or other  Property_real estate  \\\n",
       "0                             1                      0                     1   \n",
       "1                             0                      0                     1   \n",
       "2                             1                      0                     1   \n",
       "3                             1                      0                     0   \n",
       "4                             1                      0                     0   \n",
       "\n",
       "   Property_savings agreement/life insurance  Property_unknown / no property  \\\n",
       "0                                          0                               0   \n",
       "1                                          0                               0   \n",
       "2                                          0                               0   \n",
       "3                                          1                               0   \n",
       "4                                          0                               1   \n",
       "\n",
       "   Other installment plans_bank/store  Other installment plans_none  \\\n",
       "0                                   0                             1   \n",
       "1                                   0                             1   \n",
       "2                                   0                             1   \n",
       "3                                   0                             1   \n",
       "4                                   0                             1   \n",
       "\n",
       "   Housing_for free  Housing_own  Housing_rent  foreign worker_no  \\\n",
       "0                 0            1             0                  0   \n",
       "1                 0            1             0                  0   \n",
       "2                 0            1             0                  0   \n",
       "3                 1            0             0                  0   \n",
       "4                 1            0             0                  0   \n",
       "\n",
       "   foreign worker_yes  \n",
       "0                   1  \n",
       "1                   1  \n",
       "2                   1  \n",
       "3                   1  \n",
       "4                   1  "
      ]
     },
     "execution_count": 33,
     "metadata": {},
     "output_type": "execute_result"
    }
   ],
   "source": [
    "df.head()"
   ]
  },
  {
   "cell_type": "code",
   "execution_count": 34,
   "metadata": {},
   "outputs": [],
   "source": [
    "#principle component analysis\n",
    "X = df.drop('Cost Matrix(Risk)', 1).values #independent variables\n",
    "y = df[\"Cost Matrix(Risk)\"].values #target variables\n",
    "\n",
    "pca = PCA(n_components=16)\n",
    "X = pca.fit_transform(X)"
   ]
  },
  {
   "cell_type": "code",
   "execution_count": 35,
   "metadata": {},
   "outputs": [],
   "source": [
    "# Spliting dataset into train and test version\n",
    "X_train, X_test, y_train, y_test = train_test_split(X, y, test_size = 0.30,random_state=0)"
   ]
  },
  {
   "cell_type": "markdown",
   "metadata": {},
   "source": [
    "# 1) XGBoost Model"
   ]
  },
  {
   "cell_type": "code",
   "execution_count": 39,
   "metadata": {},
   "outputs": [],
   "source": [
    "# model building XGboost\n",
    "model=XGBClassifier()"
   ]
  },
  {
   "cell_type": "code",
   "execution_count": 48,
   "metadata": {},
   "outputs": [
    {
     "name": "stdout",
     "output_type": "stream",
     "text": [
      "[(1, 0), (1, 1), (1, 1), (1, 1), (1, 1), (1, 1), (1, 1), (1, 1), (1, 1), (0, 0), (0, 0), (0, 1), (1, 1), (1, 1), (0, 0), (1, 1), (1, 1), (0, 1), (1, 0), (1, 1), (1, 0), (1, 1), (1, 0), (1, 1), (1, 1), (0, 0), (1, 1), (1, 1), (1, 1), (0, 0), (1, 1), (1, 1), (0, 1), (0, 1), (1, 1), (0, 0), (1, 1), (1, 1), (0, 0), (1, 0), (0, 1), (1, 0), (1, 1), (1, 1), (1, 1), (0, 0), (0, 1), (1, 1), (1, 1), (1, 1), (0, 1), (0, 0), (1, 1), (1, 1), (0, 1), (1, 1), (1, 0), (1, 1), (1, 1), (1, 1), (0, 0), (1, 1), (1, 0), (1, 1), (1, 1), (1, 1), (1, 1), (0, 1), (0, 0), (1, 1), (1, 1), (1, 1), (1, 1), (1, 1), (1, 0), (0, 1), (1, 1), (0, 1), (0, 1), (1, 1), (1, 0), (1, 1), (1, 1), (1, 0), (1, 1), (1, 1), (0, 0), (1, 1), (1, 1), (1, 1), (1, 1), (1, 1), (1, 1), (1, 1), (1, 1), (0, 1), (1, 1), (1, 1), (1, 1), (1, 1), (1, 1), (1, 1), (1, 1), (1, 1), (1, 1), (1, 1), (1, 1), (0, 0), (0, 0), (1, 1), (1, 1), (0, 0), (0, 0), (1, 1), (1, 1), (1, 1), (0, 0), (1, 1), (1, 1), (1, 1), (0, 0), (1, 1), (1, 1), (0, 0), (1, 1), (1, 1), (1, 1), (1, 1), (1, 1), (1, 1), (0, 1), (1, 0), (0, 0), (1, 1), (1, 1), (0, 1), (1, 1), (1, 1), (1, 1), (1, 1), (1, 1), (1, 0), (1, 1), (0, 1), (0, 1), (0, 1), (1, 1), (1, 0), (0, 0), (1, 1), (1, 1), (1, 1), (1, 1), (0, 1), (1, 1), (1, 1), (0, 1), (1, 1), (1, 1), (1, 1), (0, 0), (1, 1), (1, 1), (0, 1), (0, 0), (0, 0), (0, 0), (1, 1), (0, 1), (1, 1), (1, 0), (1, 1), (1, 1), (0, 1), (1, 1), (0, 0), (0, 0), (0, 0), (1, 1), (1, 1), (1, 1), (1, 1), (1, 1), (0, 0), (1, 1), (0, 1), (1, 1), (1, 1), (1, 1), (1, 1), (0, 1), (0, 0), (0, 1), (1, 1), (1, 1), (1, 1), (0, 0), (1, 1), (0, 1), (1, 1), (1, 1), (0, 0), (0, 0), (0, 1), (1, 1), (1, 1), (0, 0), (1, 1), (1, 1), (1, 1), (0, 0), (1, 0), (0, 1), (1, 1), (1, 1), (1, 1), (1, 1), (1, 1), (1, 1), (0, 0), (0, 0), (1, 1), (1, 1), (1, 1), (1, 1), (1, 1), (1, 1), (0, 0), (0, 0), (1, 1), (1, 1), (0, 1), (0, 1), (1, 1), (0, 0), (1, 1), (1, 1), (1, 1), (1, 1), (0, 1), (0, 1), (1, 1), (1, 1), (0, 0), (1, 1), (1, 1), (1, 1), (1, 1), (1, 1), (1, 1), (1, 1), (1, 0), (1, 1), (1, 1), (1, 1), (1, 1), (1, 0), (1, 1), (1, 1), (1, 1), (1, 0), (1, 1), (1, 1), (1, 1), (1, 0), (0, 1), (1, 1), (0, 0), (1, 1), (0, 1), (0, 1), (0, 1), (1, 1), (1, 1), (1, 1), (1, 1), (1, 1), (1, 1), (0, 1), (0, 1), (1, 1), (1, 1), (1, 1), (1, 1), (0, 0), (1, 1), (1, 1), (1, 1), (1, 1), (1, 1), (1, 1), (1, 1), (1, 1), (1, 1), (0, 1), (1, 1), (0, 0), (1, 1), (0, 1), (0, 0)]\n"
     ]
    }
   ],
   "source": [
    "model = XGBClassifier()\n",
    "model.fit(X_train, y_train)\n",
    "# make predictions for test data\n",
    "y_pred = model.predict(X_test)\n",
    "predictions = [round(value) for value in y_pred]\n",
    "print(list(zip(y_test,predictions)))"
   ]
  },
  {
   "cell_type": "code",
   "execution_count": 37,
   "metadata": {},
   "outputs": [
    {
     "name": "stdout",
     "output_type": "stream",
     "text": [
      "Accuracy: \n",
      "79.67\n"
     ]
    }
   ],
   "source": [
    "# checking the accuracy\n",
    "model.fit(X_train, y_train)\n",
    "y_pred = model.predict(X_test)\n",
    "print(\"Accuracy: \")\n",
    "print(round(accuracy_score(y_test,y_pred)*100,2))"
   ]
  },
  {
   "cell_type": "code",
   "execution_count": 38,
   "metadata": {},
   "outputs": [
    {
     "data": {
      "image/png": "[encoded data removed]",
      "text/plain": [
       "<Figure size 432x288 with 1 Axes>"
      ]
     },
     "metadata": {},
     "output_type": "display_data"
    }
   ],
   "source": [
    "# generating the ROC curve\n",
    "y_pred_prob = model.predict_proba(X_test)[:,1]\n",
    "fpr, tpr, thresholds = roc_curve(y_test, y_pred_prob)\n",
    "plt.plot([0, 1], [0, 1], 'k--')\n",
    "plt.plot(fpr, tpr)\n",
    "plt.xlabel('False Positive Rate')\n",
    "plt.ylabel('True Positive Rate')\n",
    "plt.title('ROC Curve')\n",
    "plt.show()"
   ]
  },
  {
   "cell_type": "markdown",
   "metadata": {},
   "source": [
    "# 2) Logistic Regression Model"
   ]
  },
  {
   "cell_type": "code",
   "execution_count": 40,
   "metadata": {},
   "outputs": [
    {
     "name": "stdout",
     "output_type": "stream",
     "text": [
      "[(1, 0), (1, 1), (1, 1), (1, 1), (1, 0), (1, 1), (1, 1), (1, 1), (1, 1), (0, 0), (0, 0), (0, 0), (1, 1), (1, 0), (0, 0), (1, 1), (1, 1), (0, 1), (1, 0), (1, 1), (1, 0), (1, 0), (1, 0), (1, 1), (1, 1), (0, 0), (1, 1), (1, 1), (1, 1), (0, 0), (1, 1), (1, 1), (0, 1), (0, 1), (1, 1), (0, 0), (1, 1), (1, 1), (0, 0), (1, 1), (0, 0), (1, 0), (1, 1), (1, 1), (1, 1), (0, 0), (0, 1), (1, 0), (1, 1), (1, 1), (0, 1), (0, 0), (1, 1), (1, 1), (0, 1), (1, 1), (1, 0), (1, 1), (1, 1), (1, 1), (0, 0), (1, 1), (1, 0), (1, 1), (1, 1), (1, 1), (1, 1), (0, 0), (0, 0), (1, 1), (1, 1), (1, 1), (1, 0), (1, 1), (1, 0), (0, 1), (1, 1), (0, 1), (0, 1), (1, 1), (1, 1), (1, 1), (1, 1), (1, 0), (1, 1), (1, 1), (0, 1), (1, 0), (1, 1), (1, 1), (1, 1), (1, 1), (1, 1), (1, 1), (1, 1), (0, 1), (1, 1), (1, 0), (1, 0), (1, 1), (1, 1), (1, 1), (1, 1), (1, 1), (1, 1), (1, 1), (1, 0), (0, 0), (0, 0), (1, 1), (1, 1), (0, 0), (0, 0), (1, 1), (1, 1), (1, 1), (0, 0), (1, 1), (1, 1), (1, 1), (0, 1), (1, 1), (1, 1), (0, 0), (1, 1), (1, 1), (1, 1), (1, 1), (1, 1), (1, 1), (0, 1), (1, 0), (0, 0), (1, 1), (1, 1), (0, 1), (1, 0), (1, 1), (1, 1), (1, 0), (1, 0), (1, 0), (1, 1), (0, 1), (0, 1), (0, 1), (1, 1), (1, 1), (0, 0), (1, 0), (1, 1), (1, 1), (1, 1), (0, 1), (1, 1), (1, 1), (0, 1), (1, 0), (1, 1), (1, 1), (0, 1), (1, 0), (1, 1), (0, 1), (0, 0), (0, 0), (0, 0), (1, 1), (0, 1), (1, 1), (1, 0), (1, 1), (1, 0), (0, 0), (1, 1), (0, 0), (0, 0), (0, 0), (1, 1), (1, 1), (1, 1), (1, 0), (1, 1), (0, 0), (1, 1), (0, 0), (1, 1), (1, 1), (1, 1), (1, 1), (0, 1), (0, 0), (0, 1), (1, 1), (1, 1), (1, 1), (0, 1), (1, 1), (0, 1), (1, 1), (1, 1), (0, 0), (0, 0), (0, 1), (1, 1), (1, 1), (0, 0), (1, 1), (1, 1), (1, 1), (0, 1), (1, 0), (0, 1), (1, 1), (1, 1), (1, 1), (1, 0), (1, 1), (1, 1), (0, 0), (0, 0), (1, 1), (1, 1), (1, 1), (1, 1), (1, 1), (1, 1), (0, 0), (0, 1), (1, 0), (1, 1), (0, 1), (0, 1), (1, 1), (0, 1), (1, 0), (1, 1), (1, 1), (1, 1), (0, 1), (0, 1), (1, 1), (1, 1), (0, 0), (1, 1), (1, 1), (1, 1), (1, 1), (1, 1), (1, 1), (1, 1), (1, 1), (1, 1), (1, 1), (1, 1), (1, 1), (1, 0), (1, 0), (1, 1), (1, 1), (1, 0), (1, 1), (1, 1), (1, 1), (1, 0), (0, 0), (1, 0), (0, 0), (1, 1), (0, 1), (0, 1), (0, 1), (1, 1), (1, 1), (1, 1), (1, 1), (1, 1), (1, 1), (0, 1), (0, 1), (1, 1), (1, 0), (1, 1), (1, 1), (0, 0), (1, 1), (1, 1), (1, 1), (1, 1), (1, 1), (1, 1), (1, 1), (1, 0), (1, 1), (0, 1), (1, 1), (0, 0), (1, 1), (0, 1), (0, 0)]\n"
     ]
    },
    {
     "name": "stderr",
     "output_type": "stream",
     "text": [
      "D:\\SOFTWARE\\ANACONDA3\\lib\\site-packages\\sklearn\\linear_model\\logistic.py:433: FutureWarning: Default solver will be changed to 'lbfgs' in 0.22. Specify a solver to silence this warning.\n",
      "  FutureWarning)\n"
     ]
    }
   ],
   "source": [
    "from sklearn.linear_model import LogisticRegression\n",
    "#create a model\n",
    "classifier=(LogisticRegression())\n",
    "#fitting training data to the model\n",
    "classifier.fit(X_train,y_train)\n",
    "\n",
    "Y_pred=classifier.predict(X_test)\n",
    "print(list(zip(y_test,Y_pred)))"
   ]
  },
  {
   "cell_type": "code",
   "execution_count": 41,
   "metadata": {},
   "outputs": [],
   "source": [
    "new_Df=pd.DataFrame(data=[y_test,Y_pred])"
   ]
  },
  {
   "cell_type": "code",
   "execution_count": 42,
   "metadata": {},
   "outputs": [],
   "source": [
    "new_Df=new_Df.transpose()\n"
   ]
  },
  {
   "cell_type": "code",
   "execution_count": 43,
   "metadata": {},
   "outputs": [
    {
     "data": {
      "text/html": [
       "<div>\n",
       "<style scoped>\n",
       "    .dataframe tbody tr th:only-of-type {\n",
       "        vertical-align: middle;\n",
       "    }\n",
       "\n",
       "    .dataframe tbody tr th {\n",
       "        vertical-align: top;\n",
       "    }\n",
       "\n",
       "    .dataframe thead th {\n",
       "        text-align: right;\n",
       "    }\n",
       "</style>\n",
       "<table border=\"1\" class=\"dataframe\">\n",
       "  <thead>\n",
       "    <tr style=\"text-align: right;\">\n",
       "      <th></th>\n",
       "      <th>0</th>\n",
       "      <th>1</th>\n",
       "    </tr>\n",
       "  </thead>\n",
       "  <tbody>\n",
       "    <tr>\n",
       "      <th>0</th>\n",
       "      <td>1</td>\n",
       "      <td>0</td>\n",
       "    </tr>\n",
       "    <tr>\n",
       "      <th>1</th>\n",
       "      <td>1</td>\n",
       "      <td>1</td>\n",
       "    </tr>\n",
       "    <tr>\n",
       "      <th>2</th>\n",
       "      <td>1</td>\n",
       "      <td>1</td>\n",
       "    </tr>\n",
       "    <tr>\n",
       "      <th>3</th>\n",
       "      <td>1</td>\n",
       "      <td>1</td>\n",
       "    </tr>\n",
       "    <tr>\n",
       "      <th>4</th>\n",
       "      <td>1</td>\n",
       "      <td>0</td>\n",
       "    </tr>\n",
       "  </tbody>\n",
       "</table>\n",
       "</div>"
      ],
      "text/plain": [
       "   0  1\n",
       "0  1  0\n",
       "1  1  1\n",
       "2  1  1\n",
       "3  1  1\n",
       "4  1  0"
      ]
     },
     "execution_count": 43,
     "metadata": {},
     "output_type": "execute_result"
    }
   ],
   "source": [
    "new_Df.head()"
   ]
  },
  {
   "cell_type": "code",
   "execution_count": 44,
   "metadata": {},
   "outputs": [
    {
     "name": "stdout",
     "output_type": "stream",
     "text": [
      "[[ 44  42]\n",
      " [ 40 174]]\n",
      "Classification report: \n",
      "              precision    recall  f1-score   support\n",
      "\n",
      "           0       0.52      0.51      0.52        86\n",
      "           1       0.81      0.81      0.81       214\n",
      "\n",
      "   micro avg       0.73      0.73      0.73       300\n",
      "   macro avg       0.66      0.66      0.66       300\n",
      "weighted avg       0.72      0.73      0.73       300\n",
      "\n",
      "Accuracy of the model:  0.7266666666666667\n"
     ]
    }
   ],
   "source": [
    "from sklearn.metrics import confusion_matrix, accuracy_score, classification_report\n",
    "\n",
    "cfm=confusion_matrix(y_test,Y_pred)\n",
    "print(cfm)\n",
    "\n",
    "print(\"Classification report: \")\n",
    "\n",
    "print(classification_report(y_test,Y_pred))\n",
    "\n",
    "acc=accuracy_score(y_test, Y_pred)\n",
    "print(\"Accuracy of the model: \",acc)\n"
   ]
  },
  {
   "cell_type": "markdown",
   "metadata": {},
   "source": [
    "# 3) Decision Tree Model"
   ]
  },
  {
   "cell_type": "code",
   "execution_count": 45,
   "metadata": {},
   "outputs": [
    {
     "data": {
      "text/plain": [
       "DecisionTreeClassifier(class_weight=None, criterion='gini', max_depth=None,\n",
       "            max_features=None, max_leaf_nodes=None,\n",
       "            min_impurity_decrease=0.0, min_impurity_split=None,\n",
       "            min_samples_leaf=1, min_samples_split=2,\n",
       "            min_weight_fraction_leaf=0.0, presort=False, random_state=None,\n",
       "            splitter='best')"
      ]
     },
     "execution_count": 45,
     "metadata": {},
     "output_type": "execute_result"
    }
   ],
   "source": [
    "#predicting using the Decision_Tree_Classifier\n",
    "from sklearn.tree import DecisionTreeClassifier\n",
    "\n",
    "model_DecisionTree = DecisionTreeClassifier()\n",
    "model_DecisionTree.fit(X_train,y_train)"
   ]
  },
  {
   "cell_type": "code",
   "execution_count": 46,
   "metadata": {},
   "outputs": [
    {
     "name": "stdout",
     "output_type": "stream",
     "text": [
      "[(1, 0), (1, 1), (1, 1), (1, 0), (1, 0), (1, 1), (1, 1), (1, 1), (1, 1), (0, 0), (0, 1), (0, 1), (1, 1), (1, 1), (0, 0), (1, 0), (1, 0), (0, 0), (1, 1), (1, 1), (1, 0), (1, 1), (1, 0), (1, 0), (1, 1), (0, 0), (1, 1), (1, 1), (1, 1), (0, 0), (1, 0), (1, 1), (0, 1), (0, 1), (1, 1), (0, 0), (1, 1), (1, 1), (0, 1), (1, 0), (0, 1), (1, 0), (1, 0), (1, 1), (1, 1), (0, 0), (0, 0), (1, 1), (1, 0), (1, 1), (0, 1), (0, 1), (1, 0), (1, 1), (0, 1), (1, 0), (1, 0), (1, 0), (1, 1), (1, 1), (0, 0), (1, 1), (1, 0), (1, 1), (1, 1), (1, 1), (1, 1), (0, 1), (0, 1), (1, 1), (1, 1), (1, 1), (1, 0), (1, 0), (1, 0), (0, 1), (1, 1), (0, 1), (0, 1), (1, 1), (1, 0), (1, 1), (1, 1), (1, 0), (1, 1), (1, 1), (0, 1), (1, 1), (1, 1), (1, 1), (1, 1), (1, 1), (1, 0), (1, 1), (1, 1), (0, 1), (1, 1), (1, 0), (1, 1), (1, 1), (1, 1), (1, 1), (1, 1), (1, 1), (1, 1), (1, 1), (1, 1), (0, 0), (0, 0), (1, 1), (1, 1), (0, 0), (0, 0), (1, 1), (1, 0), (1, 1), (0, 0), (1, 1), (1, 0), (1, 0), (0, 0), (1, 1), (1, 0), (0, 0), (1, 1), (1, 1), (1, 1), (1, 1), (1, 1), (1, 1), (0, 1), (1, 0), (0, 1), (1, 1), (1, 1), (0, 0), (1, 1), (1, 1), (1, 1), (1, 1), (1, 0), (1, 0), (1, 1), (0, 1), (0, 1), (0, 0), (1, 1), (1, 1), (0, 1), (1, 0), (1, 1), (1, 0), (1, 0), (0, 0), (1, 0), (1, 1), (0, 1), (1, 1), (1, 1), (1, 1), (0, 1), (1, 0), (1, 1), (0, 1), (0, 1), (0, 0), (0, 0), (1, 0), (0, 1), (1, 1), (1, 1), (1, 0), (1, 1), (0, 0), (1, 1), (0, 0), (0, 0), (0, 0), (1, 0), (1, 1), (1, 0), (1, 0), (1, 0), (0, 0), (1, 1), (0, 1), (1, 1), (1, 1), (1, 1), (1, 1), (0, 1), (0, 0), (0, 1), (1, 1), (1, 1), (1, 0), (0, 0), (1, 0), (0, 1), (1, 1), (1, 0), (0, 0), (0, 1), (0, 1), (1, 1), (1, 0), (0, 0), (1, 1), (1, 0), (1, 1), (0, 0), (1, 0), (0, 1), (1, 1), (1, 0), (1, 0), (1, 1), (1, 1), (1, 0), (0, 0), (0, 0), (1, 0), (1, 0), (1, 1), (1, 1), (1, 1), (1, 1), (0, 0), (0, 0), (1, 1), (1, 1), (0, 0), (0, 1), (1, 1), (0, 0), (1, 1), (1, 1), (1, 1), (1, 1), (0, 1), (0, 1), (1, 1), (1, 1), (0, 1), (1, 1), (1, 0), (1, 1), (1, 1), (1, 1), (1, 1), (1, 1), (1, 0), (1, 1), (1, 1), (1, 1), (1, 1), (1, 1), (1, 0), (1, 1), (1, 1), (1, 1), (1, 0), (1, 1), (1, 0), (1, 0), (0, 1), (1, 1), (0, 0), (1, 1), (0, 1), (0, 0), (0, 1), (1, 0), (1, 1), (1, 1), (1, 1), (1, 1), (1, 0), (0, 1), (0, 1), (1, 1), (1, 0), (1, 1), (1, 1), (0, 0), (1, 1), (1, 1), (1, 1), (1, 1), (1, 1), (1, 1), (1, 1), (1, 1), (1, 1), (0, 1), (1, 0), (0, 0), (1, 1), (0, 1), (0, 1)]\n"
     ]
    }
   ],
   "source": [
    "#fit the model on the data and predict the values\n",
    "Y_pred = model_DecisionTree.predict(X_test)\n",
    "#print(Y_pred)\n",
    "print(list(zip(y_test,Y_pred)))"
   ]
  },
  {
   "cell_type": "code",
   "execution_count": 47,
   "metadata": {},
   "outputs": [
    {
     "name": "stdout",
     "output_type": "stream",
     "text": [
      "[[ 41  45]\n",
      " [ 64 150]]\n",
      "0.6366666666666667\n",
      "              precision    recall  f1-score   support\n",
      "\n",
      "           0       0.39      0.48      0.43        86\n",
      "           1       0.77      0.70      0.73       214\n",
      "\n",
      "   micro avg       0.64      0.64      0.64       300\n",
      "   macro avg       0.58      0.59      0.58       300\n",
      "weighted avg       0.66      0.64      0.65       300\n",
      "\n"
     ]
    }
   ],
   "source": [
    "from sklearn.metrics import confusion_matrix, accuracy_score, classification_report\n",
    "#confusion matrix\n",
    "print(confusion_matrix(y_test,Y_pred))\n",
    "print(accuracy_score(y_test,Y_pred))\n",
    "print(classification_report(y_test,Y_pred))"
   ]
  },
  {
   "cell_type": "markdown",
   "metadata": {},
   "source": [
    "ACCURACY OF THE ALL THE CLASSIFICATION MODELS\n",
    "1) XGBOOST :- 79.67\n",
    "2) LOGISTIC REGRESSION :- 0.7266666666666667\n",
    "3) DECISION TREE :- 0.6366666666666667\n",
    "SO THE BEST MODEL WITH BEST PREDICTION WAS XGBOOST."
   ]
  }
 ],
 "metadata": {
  "kernelspec": {
   "display_name": "Python 3",
   "language": "python",
   "name": "python3"
  },
  "language_info": {
   "codemirror_mode": {
    "name": "ipython",
    "version": 3
   },
   "file_extension": ".py",
   "mimetype": "text/x-python",
   "name": "python",
   "nbconvert_exporter": "python",
   "pygments_lexer": "ipython3",
   "version": "3.7.0"
  }
 },
 "nbformat": 4,
 "nbformat_minor": 2
}
